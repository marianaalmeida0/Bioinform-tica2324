{
 "cells": [
  {
   "cell_type": "markdown",
   "id": "78529183-49dd-41e3-8446-009b197d8093",
   "metadata": {},
   "source": [
    "## Projeto Final"
   ]
  },
  {
   "cell_type": "markdown",
   "id": "007ce5ba-361c-4c22-9cbf-44fd212b828a",
   "metadata": {},
   "source": [
    "### Estudo de caso:  Short-term fasting effect on skeletal muscle: time course"
   ]
  },
  {
   "cell_type": "markdown",
   "id": "577ab049-09cf-470d-8851-8121c93f6e8a",
   "metadata": {},
   "source": [
    "Descrição do dataset:\n",
    "Análise de biópsias musculares esqueléticas recolhidas em 1,5; 4; 10 e 24 horas após a refeição em homens jovens e saudáveis submetidos a um jejum de 24 horas. Os resultados fornecem uma compreensão sobre os mecanismos moleculares subjacentes à adaptação metabólica ao jejum em seres humanos saudáveis, tendo como objetivo, neste trabalho,estabelecer uma relação entre a expressão genética e o tempo de jejum.\n",
    "O dataset apresenta uma coleção de genes, cerca de 48107 de 48 amostras. Cada amostra é caracterizada nos metadados com base em 4 variáveis: amostra (sample), individuo (individual), tempo (time) e descrição (description).  \n",
    "\n",
    "Ficheros usados :\n",
    "- *gds5473.csv* - file with gene expression data ( Gene-> ILMN...)\n",
    "- *meta-gds5473.csv* - clinical variables for each sample (GSM..) \n"
   ]
  },
  {
   "cell_type": "code",
   "execution_count": 1,
   "id": "a591abcb-1e8c-4ec0-a534-b1c178ddfa3b",
   "metadata": {},
   "outputs": [],
   "source": [
    "import warnings\n",
    "warnings.filterwarnings('ignore')\n",
    "import pandas as pd\n",
    "import numpy as np\n",
    "from sklearn import *\n",
    "from sklearn.decomposition import PCA\n",
    "\n",
    "%matplotlib inline\n",
    "import matplotlib.pyplot as plt"
   ]
  },
  {
   "cell_type": "markdown",
   "id": "8d494e65-9641-43dc-9cf9-59198d7205f6",
   "metadata": {},
   "source": [
    "## Etapa 1"
   ]
  },
  {
   "cell_type": "markdown",
   "id": "d8b9091c-bea7-48fb-a4b6-b2ffcff15406",
   "metadata": {},
   "source": [
    "### Leitura dos dados e dos metadados\n"
   ]
  },
  {
   "cell_type": "code",
   "execution_count": 2,
   "id": "a6b936d9-a07e-4101-af42-2014a4a90c0e",
   "metadata": {
    "scrolled": true
   },
   "outputs": [],
   "source": [
    "# Opening the dataset with pandas\n",
    "data = pd.read_csv(\"gds5473.csv\", sep=',', index_col = 0)\n",
    "# Opening the metadata\n",
    "meta = pd.read_csv(\"meta-gds5473.csv\", sep = \",\", index_col = 0)\n"
   ]
  },
  {
   "cell_type": "code",
   "execution_count": 3,
   "id": "f61fa2dc-3c82-4410-bd6b-8ce053d29d15",
   "metadata": {},
   "outputs": [
    {
     "data": {
      "text/html": [
       "<div>\n",
       "<style scoped>\n",
       "    .dataframe tbody tr th:only-of-type {\n",
       "        vertical-align: middle;\n",
       "    }\n",
       "\n",
       "    .dataframe tbody tr th {\n",
       "        vertical-align: top;\n",
       "    }\n",
       "\n",
       "    .dataframe thead th {\n",
       "        text-align: right;\n",
       "    }\n",
       "</style>\n",
       "<table border=\"1\" class=\"dataframe\">\n",
       "  <thead>\n",
       "    <tr style=\"text-align: right;\">\n",
       "      <th></th>\n",
       "      <th>GSM1348553</th>\n",
       "      <th>GSM1348554</th>\n",
       "      <th>GSM1348555</th>\n",
       "      <th>GSM1348556</th>\n",
       "      <th>GSM1348557</th>\n",
       "      <th>GSM1348558</th>\n",
       "      <th>GSM1348559</th>\n",
       "      <th>GSM1348560</th>\n",
       "      <th>GSM1348561</th>\n",
       "      <th>GSM1348562</th>\n",
       "      <th>...</th>\n",
       "      <th>GSM1348591</th>\n",
       "      <th>GSM1348592</th>\n",
       "      <th>GSM1348593</th>\n",
       "      <th>GSM1348594</th>\n",
       "      <th>GSM1348595</th>\n",
       "      <th>GSM1348596</th>\n",
       "      <th>GSM1348597</th>\n",
       "      <th>GSM1348598</th>\n",
       "      <th>GSM1348599</th>\n",
       "      <th>GSM1348600</th>\n",
       "    </tr>\n",
       "  </thead>\n",
       "  <tbody>\n",
       "    <tr>\n",
       "      <th>ILMN_1343048</th>\n",
       "      <td>NaN</td>\n",
       "      <td>NaN</td>\n",
       "      <td>NaN</td>\n",
       "      <td>NaN</td>\n",
       "      <td>NaN</td>\n",
       "      <td>NaN</td>\n",
       "      <td>NaN</td>\n",
       "      <td>NaN</td>\n",
       "      <td>NaN</td>\n",
       "      <td>NaN</td>\n",
       "      <td>...</td>\n",
       "      <td>NaN</td>\n",
       "      <td>NaN</td>\n",
       "      <td>NaN</td>\n",
       "      <td>NaN</td>\n",
       "      <td>NaN</td>\n",
       "      <td>NaN</td>\n",
       "      <td>NaN</td>\n",
       "      <td>NaN</td>\n",
       "      <td>NaN</td>\n",
       "      <td>NaN</td>\n",
       "    </tr>\n",
       "    <tr>\n",
       "      <th>ILMN_1343049</th>\n",
       "      <td>NaN</td>\n",
       "      <td>NaN</td>\n",
       "      <td>NaN</td>\n",
       "      <td>NaN</td>\n",
       "      <td>NaN</td>\n",
       "      <td>NaN</td>\n",
       "      <td>NaN</td>\n",
       "      <td>NaN</td>\n",
       "      <td>NaN</td>\n",
       "      <td>NaN</td>\n",
       "      <td>...</td>\n",
       "      <td>NaN</td>\n",
       "      <td>NaN</td>\n",
       "      <td>NaN</td>\n",
       "      <td>NaN</td>\n",
       "      <td>NaN</td>\n",
       "      <td>NaN</td>\n",
       "      <td>NaN</td>\n",
       "      <td>NaN</td>\n",
       "      <td>NaN</td>\n",
       "      <td>NaN</td>\n",
       "    </tr>\n",
       "    <tr>\n",
       "      <th>ILMN_1343050</th>\n",
       "      <td>NaN</td>\n",
       "      <td>NaN</td>\n",
       "      <td>NaN</td>\n",
       "      <td>NaN</td>\n",
       "      <td>NaN</td>\n",
       "      <td>NaN</td>\n",
       "      <td>NaN</td>\n",
       "      <td>NaN</td>\n",
       "      <td>NaN</td>\n",
       "      <td>NaN</td>\n",
       "      <td>...</td>\n",
       "      <td>NaN</td>\n",
       "      <td>NaN</td>\n",
       "      <td>NaN</td>\n",
       "      <td>NaN</td>\n",
       "      <td>NaN</td>\n",
       "      <td>NaN</td>\n",
       "      <td>NaN</td>\n",
       "      <td>NaN</td>\n",
       "      <td>NaN</td>\n",
       "      <td>NaN</td>\n",
       "    </tr>\n",
       "    <tr>\n",
       "      <th>ILMN_1343052</th>\n",
       "      <td>NaN</td>\n",
       "      <td>NaN</td>\n",
       "      <td>NaN</td>\n",
       "      <td>NaN</td>\n",
       "      <td>NaN</td>\n",
       "      <td>NaN</td>\n",
       "      <td>NaN</td>\n",
       "      <td>NaN</td>\n",
       "      <td>NaN</td>\n",
       "      <td>NaN</td>\n",
       "      <td>...</td>\n",
       "      <td>NaN</td>\n",
       "      <td>NaN</td>\n",
       "      <td>NaN</td>\n",
       "      <td>NaN</td>\n",
       "      <td>NaN</td>\n",
       "      <td>NaN</td>\n",
       "      <td>NaN</td>\n",
       "      <td>NaN</td>\n",
       "      <td>NaN</td>\n",
       "      <td>NaN</td>\n",
       "    </tr>\n",
       "    <tr>\n",
       "      <th>ILMN_1343059</th>\n",
       "      <td>NaN</td>\n",
       "      <td>NaN</td>\n",
       "      <td>NaN</td>\n",
       "      <td>NaN</td>\n",
       "      <td>NaN</td>\n",
       "      <td>NaN</td>\n",
       "      <td>NaN</td>\n",
       "      <td>NaN</td>\n",
       "      <td>NaN</td>\n",
       "      <td>NaN</td>\n",
       "      <td>...</td>\n",
       "      <td>NaN</td>\n",
       "      <td>NaN</td>\n",
       "      <td>NaN</td>\n",
       "      <td>NaN</td>\n",
       "      <td>NaN</td>\n",
       "      <td>NaN</td>\n",
       "      <td>NaN</td>\n",
       "      <td>NaN</td>\n",
       "      <td>NaN</td>\n",
       "      <td>NaN</td>\n",
       "    </tr>\n",
       "  </tbody>\n",
       "</table>\n",
       "<p>5 rows × 48 columns</p>\n",
       "</div>"
      ],
      "text/plain": [
       "              GSM1348553  GSM1348554  GSM1348555  GSM1348556  GSM1348557  \\\n",
       "ILMN_1343048         NaN         NaN         NaN         NaN         NaN   \n",
       "ILMN_1343049         NaN         NaN         NaN         NaN         NaN   \n",
       "ILMN_1343050         NaN         NaN         NaN         NaN         NaN   \n",
       "ILMN_1343052         NaN         NaN         NaN         NaN         NaN   \n",
       "ILMN_1343059         NaN         NaN         NaN         NaN         NaN   \n",
       "\n",
       "              GSM1348558  GSM1348559  GSM1348560  GSM1348561  GSM1348562  ...  \\\n",
       "ILMN_1343048         NaN         NaN         NaN         NaN         NaN  ...   \n",
       "ILMN_1343049         NaN         NaN         NaN         NaN         NaN  ...   \n",
       "ILMN_1343050         NaN         NaN         NaN         NaN         NaN  ...   \n",
       "ILMN_1343052         NaN         NaN         NaN         NaN         NaN  ...   \n",
       "ILMN_1343059         NaN         NaN         NaN         NaN         NaN  ...   \n",
       "\n",
       "              GSM1348591  GSM1348592  GSM1348593  GSM1348594  GSM1348595  \\\n",
       "ILMN_1343048         NaN         NaN         NaN         NaN         NaN   \n",
       "ILMN_1343049         NaN         NaN         NaN         NaN         NaN   \n",
       "ILMN_1343050         NaN         NaN         NaN         NaN         NaN   \n",
       "ILMN_1343052         NaN         NaN         NaN         NaN         NaN   \n",
       "ILMN_1343059         NaN         NaN         NaN         NaN         NaN   \n",
       "\n",
       "              GSM1348596  GSM1348597  GSM1348598  GSM1348599  GSM1348600  \n",
       "ILMN_1343048         NaN         NaN         NaN         NaN         NaN  \n",
       "ILMN_1343049         NaN         NaN         NaN         NaN         NaN  \n",
       "ILMN_1343050         NaN         NaN         NaN         NaN         NaN  \n",
       "ILMN_1343052         NaN         NaN         NaN         NaN         NaN  \n",
       "ILMN_1343059         NaN         NaN         NaN         NaN         NaN  \n",
       "\n",
       "[5 rows x 48 columns]"
      ]
     },
     "execution_count": 3,
     "metadata": {},
     "output_type": "execute_result"
    }
   ],
   "source": [
    "data.head()"
   ]
  },
  {
   "cell_type": "code",
   "execution_count": 4,
   "id": "43389c8c-39e4-4609-97c9-c1440157c156",
   "metadata": {},
   "outputs": [
    {
     "data": {
      "text/html": [
       "<div>\n",
       "<style scoped>\n",
       "    .dataframe tbody tr th:only-of-type {\n",
       "        vertical-align: middle;\n",
       "    }\n",
       "\n",
       "    .dataframe tbody tr th {\n",
       "        vertical-align: top;\n",
       "    }\n",
       "\n",
       "    .dataframe thead th {\n",
       "        text-align: right;\n",
       "    }\n",
       "</style>\n",
       "<table border=\"1\" class=\"dataframe\">\n",
       "  <thead>\n",
       "    <tr style=\"text-align: right;\">\n",
       "      <th></th>\n",
       "      <th>sample</th>\n",
       "      <th>individual</th>\n",
       "      <th>time</th>\n",
       "      <th>description</th>\n",
       "    </tr>\n",
       "  </thead>\n",
       "  <tbody>\n",
       "    <tr>\n",
       "      <th>GSM1348553</th>\n",
       "      <td>GSM1348553</td>\n",
       "      <td>subject 1</td>\n",
       "      <td>hour 1.5</td>\n",
       "      <td>Value for GSM1348553: Subject 1 - 1,5h post-me...</td>\n",
       "    </tr>\n",
       "    <tr>\n",
       "      <th>GSM1348554</th>\n",
       "      <td>GSM1348554</td>\n",
       "      <td>subject 1</td>\n",
       "      <td>hour 4</td>\n",
       "      <td>Value for GSM1348554: Subject 1 - 4h post-meal...</td>\n",
       "    </tr>\n",
       "    <tr>\n",
       "      <th>GSM1348555</th>\n",
       "      <td>GSM1348555</td>\n",
       "      <td>subject 1</td>\n",
       "      <td>hour 10</td>\n",
       "      <td>Value for GSM1348555: Subject 1 - 10h post-mea...</td>\n",
       "    </tr>\n",
       "    <tr>\n",
       "      <th>GSM1348556</th>\n",
       "      <td>GSM1348556</td>\n",
       "      <td>subject 1</td>\n",
       "      <td>hour 24</td>\n",
       "      <td>Value for GSM1348556: Subject 1 - 24h post-mea...</td>\n",
       "    </tr>\n",
       "    <tr>\n",
       "      <th>GSM1348557</th>\n",
       "      <td>GSM1348557</td>\n",
       "      <td>subject 2</td>\n",
       "      <td>hour 1.5</td>\n",
       "      <td>Value for GSM1348557: Subject 2 - 1,5h post-me...</td>\n",
       "    </tr>\n",
       "  </tbody>\n",
       "</table>\n",
       "</div>"
      ],
      "text/plain": [
       "                sample individual      time  \\\n",
       "GSM1348553  GSM1348553  subject 1  hour 1.5   \n",
       "GSM1348554  GSM1348554  subject 1    hour 4   \n",
       "GSM1348555  GSM1348555  subject 1   hour 10   \n",
       "GSM1348556  GSM1348556  subject 1   hour 24   \n",
       "GSM1348557  GSM1348557  subject 2  hour 1.5   \n",
       "\n",
       "                                                  description  \n",
       "GSM1348553  Value for GSM1348553: Subject 1 - 1,5h post-me...  \n",
       "GSM1348554  Value for GSM1348554: Subject 1 - 4h post-meal...  \n",
       "GSM1348555  Value for GSM1348555: Subject 1 - 10h post-mea...  \n",
       "GSM1348556  Value for GSM1348556: Subject 1 - 24h post-mea...  \n",
       "GSM1348557  Value for GSM1348557: Subject 2 - 1,5h post-me...  "
      ]
     },
     "execution_count": 4,
     "metadata": {},
     "output_type": "execute_result"
    }
   ],
   "source": [
    "meta.head()"
   ]
  },
  {
   "cell_type": "code",
   "execution_count": 5,
   "id": "79a4e39b-c2ee-4744-9367-1638aa04db7b",
   "metadata": {},
   "outputs": [
    {
     "name": "stdout",
     "output_type": "stream",
     "text": [
      "(48107, 48)\n",
      "(48, 4)\n"
     ]
    }
   ],
   "source": [
    "print(data.values.shape)\n",
    "print(meta.values.shape)"
   ]
  },
  {
   "cell_type": "markdown",
   "id": "c384e997-15d1-469b-a81d-cb1e619cdd9b",
   "metadata": {},
   "source": [
    "Existem 48107 genes de 48 amostras diferentes no dataset. No meta-dataset estão presentes 48 amostras e 4 colunas com os atributos sample, individual, time e description. No caso do data, como irá ser feita uma aplicacao de machine learning e os objetos de estudo serão os genes, é necessários estes se encontrarem nas colunas. Consequentemente, realizou-se a transposta no dataset."
   ]
  },
  {
   "cell_type": "code",
   "execution_count": 6,
   "id": "36e1868f-905a-4c89-8fe1-ed35754ee931",
   "metadata": {
    "scrolled": true
   },
   "outputs": [
    {
     "data": {
      "text/html": [
       "<div>\n",
       "<style scoped>\n",
       "    .dataframe tbody tr th:only-of-type {\n",
       "        vertical-align: middle;\n",
       "    }\n",
       "\n",
       "    .dataframe tbody tr th {\n",
       "        vertical-align: top;\n",
       "    }\n",
       "\n",
       "    .dataframe thead th {\n",
       "        text-align: right;\n",
       "    }\n",
       "</style>\n",
       "<table border=\"1\" class=\"dataframe\">\n",
       "  <thead>\n",
       "    <tr style=\"text-align: right;\">\n",
       "      <th></th>\n",
       "      <th>ILMN_1343048</th>\n",
       "      <th>ILMN_1343049</th>\n",
       "      <th>ILMN_1343050</th>\n",
       "      <th>ILMN_1343052</th>\n",
       "      <th>ILMN_1343059</th>\n",
       "      <th>ILMN_1343061</th>\n",
       "      <th>ILMN_1343062</th>\n",
       "      <th>ILMN_1343063</th>\n",
       "      <th>ILMN_1343064</th>\n",
       "      <th>ILMN_1343291</th>\n",
       "      <th>...</th>\n",
       "      <th>ILMN_3311145</th>\n",
       "      <th>ILMN_3311150</th>\n",
       "      <th>ILMN_3311155</th>\n",
       "      <th>ILMN_3311160</th>\n",
       "      <th>ILMN_3311165</th>\n",
       "      <th>ILMN_3311170</th>\n",
       "      <th>ILMN_3311175</th>\n",
       "      <th>ILMN_3311180</th>\n",
       "      <th>ILMN_3311185</th>\n",
       "      <th>ILMN_3311190</th>\n",
       "    </tr>\n",
       "  </thead>\n",
       "  <tbody>\n",
       "    <tr>\n",
       "      <th>GSM1348553</th>\n",
       "      <td>NaN</td>\n",
       "      <td>NaN</td>\n",
       "      <td>NaN</td>\n",
       "      <td>NaN</td>\n",
       "      <td>NaN</td>\n",
       "      <td>NaN</td>\n",
       "      <td>NaN</td>\n",
       "      <td>NaN</td>\n",
       "      <td>NaN</td>\n",
       "      <td>12.9</td>\n",
       "      <td>...</td>\n",
       "      <td>7.3</td>\n",
       "      <td>7.3</td>\n",
       "      <td>7.2</td>\n",
       "      <td>7.3</td>\n",
       "      <td>7.6</td>\n",
       "      <td>7.0</td>\n",
       "      <td>7.3</td>\n",
       "      <td>7.3</td>\n",
       "      <td>7.2</td>\n",
       "      <td>7.3</td>\n",
       "    </tr>\n",
       "    <tr>\n",
       "      <th>GSM1348554</th>\n",
       "      <td>NaN</td>\n",
       "      <td>NaN</td>\n",
       "      <td>NaN</td>\n",
       "      <td>NaN</td>\n",
       "      <td>NaN</td>\n",
       "      <td>NaN</td>\n",
       "      <td>NaN</td>\n",
       "      <td>NaN</td>\n",
       "      <td>NaN</td>\n",
       "      <td>12.6</td>\n",
       "      <td>...</td>\n",
       "      <td>7.1</td>\n",
       "      <td>7.1</td>\n",
       "      <td>7.3</td>\n",
       "      <td>7.2</td>\n",
       "      <td>7.5</td>\n",
       "      <td>7.3</td>\n",
       "      <td>7.2</td>\n",
       "      <td>7.5</td>\n",
       "      <td>7.3</td>\n",
       "      <td>7.2</td>\n",
       "    </tr>\n",
       "    <tr>\n",
       "      <th>GSM1348555</th>\n",
       "      <td>NaN</td>\n",
       "      <td>NaN</td>\n",
       "      <td>NaN</td>\n",
       "      <td>NaN</td>\n",
       "      <td>NaN</td>\n",
       "      <td>NaN</td>\n",
       "      <td>NaN</td>\n",
       "      <td>NaN</td>\n",
       "      <td>NaN</td>\n",
       "      <td>13.1</td>\n",
       "      <td>...</td>\n",
       "      <td>7.2</td>\n",
       "      <td>7.5</td>\n",
       "      <td>7.4</td>\n",
       "      <td>7.1</td>\n",
       "      <td>7.5</td>\n",
       "      <td>7.2</td>\n",
       "      <td>7.2</td>\n",
       "      <td>7.4</td>\n",
       "      <td>7.2</td>\n",
       "      <td>7.4</td>\n",
       "    </tr>\n",
       "    <tr>\n",
       "      <th>GSM1348556</th>\n",
       "      <td>NaN</td>\n",
       "      <td>NaN</td>\n",
       "      <td>NaN</td>\n",
       "      <td>NaN</td>\n",
       "      <td>NaN</td>\n",
       "      <td>NaN</td>\n",
       "      <td>NaN</td>\n",
       "      <td>NaN</td>\n",
       "      <td>NaN</td>\n",
       "      <td>12.7</td>\n",
       "      <td>...</td>\n",
       "      <td>7.2</td>\n",
       "      <td>7.4</td>\n",
       "      <td>7.2</td>\n",
       "      <td>7.2</td>\n",
       "      <td>7.4</td>\n",
       "      <td>7.1</td>\n",
       "      <td>7.3</td>\n",
       "      <td>7.5</td>\n",
       "      <td>7.4</td>\n",
       "      <td>7.3</td>\n",
       "    </tr>\n",
       "    <tr>\n",
       "      <th>GSM1348557</th>\n",
       "      <td>NaN</td>\n",
       "      <td>NaN</td>\n",
       "      <td>NaN</td>\n",
       "      <td>NaN</td>\n",
       "      <td>NaN</td>\n",
       "      <td>NaN</td>\n",
       "      <td>NaN</td>\n",
       "      <td>NaN</td>\n",
       "      <td>NaN</td>\n",
       "      <td>13.1</td>\n",
       "      <td>...</td>\n",
       "      <td>7.1</td>\n",
       "      <td>7.3</td>\n",
       "      <td>7.2</td>\n",
       "      <td>7.4</td>\n",
       "      <td>7.6</td>\n",
       "      <td>7.3</td>\n",
       "      <td>7.1</td>\n",
       "      <td>7.4</td>\n",
       "      <td>7.3</td>\n",
       "      <td>7.3</td>\n",
       "    </tr>\n",
       "  </tbody>\n",
       "</table>\n",
       "<p>5 rows × 48107 columns</p>\n",
       "</div>"
      ],
      "text/plain": [
       "            ILMN_1343048  ILMN_1343049  ILMN_1343050  ILMN_1343052  \\\n",
       "GSM1348553           NaN           NaN           NaN           NaN   \n",
       "GSM1348554           NaN           NaN           NaN           NaN   \n",
       "GSM1348555           NaN           NaN           NaN           NaN   \n",
       "GSM1348556           NaN           NaN           NaN           NaN   \n",
       "GSM1348557           NaN           NaN           NaN           NaN   \n",
       "\n",
       "            ILMN_1343059  ILMN_1343061  ILMN_1343062  ILMN_1343063  \\\n",
       "GSM1348553           NaN           NaN           NaN           NaN   \n",
       "GSM1348554           NaN           NaN           NaN           NaN   \n",
       "GSM1348555           NaN           NaN           NaN           NaN   \n",
       "GSM1348556           NaN           NaN           NaN           NaN   \n",
       "GSM1348557           NaN           NaN           NaN           NaN   \n",
       "\n",
       "            ILMN_1343064  ILMN_1343291  ...  ILMN_3311145  ILMN_3311150  \\\n",
       "GSM1348553           NaN          12.9  ...           7.3           7.3   \n",
       "GSM1348554           NaN          12.6  ...           7.1           7.1   \n",
       "GSM1348555           NaN          13.1  ...           7.2           7.5   \n",
       "GSM1348556           NaN          12.7  ...           7.2           7.4   \n",
       "GSM1348557           NaN          13.1  ...           7.1           7.3   \n",
       "\n",
       "            ILMN_3311155  ILMN_3311160  ILMN_3311165  ILMN_3311170  \\\n",
       "GSM1348553           7.2           7.3           7.6           7.0   \n",
       "GSM1348554           7.3           7.2           7.5           7.3   \n",
       "GSM1348555           7.4           7.1           7.5           7.2   \n",
       "GSM1348556           7.2           7.2           7.4           7.1   \n",
       "GSM1348557           7.2           7.4           7.6           7.3   \n",
       "\n",
       "            ILMN_3311175  ILMN_3311180  ILMN_3311185  ILMN_3311190  \n",
       "GSM1348553           7.3           7.3           7.2           7.3  \n",
       "GSM1348554           7.2           7.5           7.3           7.2  \n",
       "GSM1348555           7.2           7.4           7.2           7.4  \n",
       "GSM1348556           7.3           7.5           7.4           7.3  \n",
       "GSM1348557           7.1           7.4           7.3           7.3  \n",
       "\n",
       "[5 rows x 48107 columns]"
      ]
     },
     "execution_count": 6,
     "metadata": {},
     "output_type": "execute_result"
    }
   ],
   "source": [
    "data_all = data.transpose()\n",
    "data_all.head()"
   ]
  },
  {
   "cell_type": "markdown",
   "id": "aab57223-f45e-4629-a53c-8e3792d76d17",
   "metadata": {},
   "source": [
    "### Exploração dos dados"
   ]
  },
  {
   "cell_type": "code",
   "execution_count": 7,
   "id": "ca304cdf-adc6-4aa2-a244-1d8fabc23d4d",
   "metadata": {},
   "outputs": [
    {
     "data": {
      "text/html": [
       "<div>\n",
       "<style scoped>\n",
       "    .dataframe tbody tr th:only-of-type {\n",
       "        vertical-align: middle;\n",
       "    }\n",
       "\n",
       "    .dataframe tbody tr th {\n",
       "        vertical-align: top;\n",
       "    }\n",
       "\n",
       "    .dataframe thead th {\n",
       "        text-align: right;\n",
       "    }\n",
       "</style>\n",
       "<table border=\"1\" class=\"dataframe\">\n",
       "  <thead>\n",
       "    <tr style=\"text-align: right;\">\n",
       "      <th></th>\n",
       "      <th>ILMN_1343048</th>\n",
       "      <th>ILMN_1343049</th>\n",
       "      <th>ILMN_1343050</th>\n",
       "      <th>ILMN_1343052</th>\n",
       "      <th>ILMN_1343059</th>\n",
       "      <th>ILMN_1343061</th>\n",
       "      <th>ILMN_1343062</th>\n",
       "      <th>ILMN_1343063</th>\n",
       "      <th>ILMN_1343064</th>\n",
       "      <th>ILMN_1343291</th>\n",
       "      <th>...</th>\n",
       "      <th>ILMN_3311145</th>\n",
       "      <th>ILMN_3311150</th>\n",
       "      <th>ILMN_3311155</th>\n",
       "      <th>ILMN_3311160</th>\n",
       "      <th>ILMN_3311165</th>\n",
       "      <th>ILMN_3311170</th>\n",
       "      <th>ILMN_3311175</th>\n",
       "      <th>ILMN_3311180</th>\n",
       "      <th>ILMN_3311185</th>\n",
       "      <th>ILMN_3311190</th>\n",
       "    </tr>\n",
       "  </thead>\n",
       "  <tbody>\n",
       "    <tr>\n",
       "      <th>count</th>\n",
       "      <td>0.0</td>\n",
       "      <td>0.0</td>\n",
       "      <td>0.0</td>\n",
       "      <td>0.0</td>\n",
       "      <td>0.0</td>\n",
       "      <td>0.0</td>\n",
       "      <td>0.0</td>\n",
       "      <td>0.0</td>\n",
       "      <td>0.0</td>\n",
       "      <td>48.000000</td>\n",
       "      <td>...</td>\n",
       "      <td>48.000000</td>\n",
       "      <td>48.000000</td>\n",
       "      <td>48.000000</td>\n",
       "      <td>48.000000</td>\n",
       "      <td>48.000000</td>\n",
       "      <td>48.000000</td>\n",
       "      <td>48.000000</td>\n",
       "      <td>48.000000</td>\n",
       "      <td>48.000000</td>\n",
       "      <td>48.000000</td>\n",
       "    </tr>\n",
       "    <tr>\n",
       "      <th>mean</th>\n",
       "      <td>NaN</td>\n",
       "      <td>NaN</td>\n",
       "      <td>NaN</td>\n",
       "      <td>NaN</td>\n",
       "      <td>NaN</td>\n",
       "      <td>NaN</td>\n",
       "      <td>NaN</td>\n",
       "      <td>NaN</td>\n",
       "      <td>NaN</td>\n",
       "      <td>13.047917</td>\n",
       "      <td>...</td>\n",
       "      <td>7.247917</td>\n",
       "      <td>7.322917</td>\n",
       "      <td>7.293750</td>\n",
       "      <td>7.237500</td>\n",
       "      <td>7.460417</td>\n",
       "      <td>7.241667</td>\n",
       "      <td>7.225000</td>\n",
       "      <td>7.360417</td>\n",
       "      <td>7.220833</td>\n",
       "      <td>7.287500</td>\n",
       "    </tr>\n",
       "    <tr>\n",
       "      <th>std</th>\n",
       "      <td>NaN</td>\n",
       "      <td>NaN</td>\n",
       "      <td>NaN</td>\n",
       "      <td>NaN</td>\n",
       "      <td>NaN</td>\n",
       "      <td>NaN</td>\n",
       "      <td>NaN</td>\n",
       "      <td>NaN</td>\n",
       "      <td>NaN</td>\n",
       "      <td>0.245807</td>\n",
       "      <td>...</td>\n",
       "      <td>0.107168</td>\n",
       "      <td>0.127562</td>\n",
       "      <td>0.113749</td>\n",
       "      <td>0.108422</td>\n",
       "      <td>0.128394</td>\n",
       "      <td>0.104847</td>\n",
       "      <td>0.106191</td>\n",
       "      <td>0.116216</td>\n",
       "      <td>0.100970</td>\n",
       "      <td>0.098121</td>\n",
       "    </tr>\n",
       "    <tr>\n",
       "      <th>min</th>\n",
       "      <td>NaN</td>\n",
       "      <td>NaN</td>\n",
       "      <td>NaN</td>\n",
       "      <td>NaN</td>\n",
       "      <td>NaN</td>\n",
       "      <td>NaN</td>\n",
       "      <td>NaN</td>\n",
       "      <td>NaN</td>\n",
       "      <td>NaN</td>\n",
       "      <td>12.300000</td>\n",
       "      <td>...</td>\n",
       "      <td>7.000000</td>\n",
       "      <td>7.000000</td>\n",
       "      <td>7.100000</td>\n",
       "      <td>6.900000</td>\n",
       "      <td>7.200000</td>\n",
       "      <td>7.000000</td>\n",
       "      <td>7.000000</td>\n",
       "      <td>7.200000</td>\n",
       "      <td>7.000000</td>\n",
       "      <td>7.100000</td>\n",
       "    </tr>\n",
       "    <tr>\n",
       "      <th>25%</th>\n",
       "      <td>NaN</td>\n",
       "      <td>NaN</td>\n",
       "      <td>NaN</td>\n",
       "      <td>NaN</td>\n",
       "      <td>NaN</td>\n",
       "      <td>NaN</td>\n",
       "      <td>NaN</td>\n",
       "      <td>NaN</td>\n",
       "      <td>NaN</td>\n",
       "      <td>12.900000</td>\n",
       "      <td>...</td>\n",
       "      <td>7.200000</td>\n",
       "      <td>7.200000</td>\n",
       "      <td>7.200000</td>\n",
       "      <td>7.200000</td>\n",
       "      <td>7.400000</td>\n",
       "      <td>7.200000</td>\n",
       "      <td>7.200000</td>\n",
       "      <td>7.300000</td>\n",
       "      <td>7.200000</td>\n",
       "      <td>7.200000</td>\n",
       "    </tr>\n",
       "    <tr>\n",
       "      <th>50%</th>\n",
       "      <td>NaN</td>\n",
       "      <td>NaN</td>\n",
       "      <td>NaN</td>\n",
       "      <td>NaN</td>\n",
       "      <td>NaN</td>\n",
       "      <td>NaN</td>\n",
       "      <td>NaN</td>\n",
       "      <td>NaN</td>\n",
       "      <td>NaN</td>\n",
       "      <td>13.100000</td>\n",
       "      <td>...</td>\n",
       "      <td>7.250000</td>\n",
       "      <td>7.300000</td>\n",
       "      <td>7.300000</td>\n",
       "      <td>7.200000</td>\n",
       "      <td>7.500000</td>\n",
       "      <td>7.200000</td>\n",
       "      <td>7.200000</td>\n",
       "      <td>7.300000</td>\n",
       "      <td>7.200000</td>\n",
       "      <td>7.300000</td>\n",
       "    </tr>\n",
       "    <tr>\n",
       "      <th>75%</th>\n",
       "      <td>NaN</td>\n",
       "      <td>NaN</td>\n",
       "      <td>NaN</td>\n",
       "      <td>NaN</td>\n",
       "      <td>NaN</td>\n",
       "      <td>NaN</td>\n",
       "      <td>NaN</td>\n",
       "      <td>NaN</td>\n",
       "      <td>NaN</td>\n",
       "      <td>13.200000</td>\n",
       "      <td>...</td>\n",
       "      <td>7.300000</td>\n",
       "      <td>7.400000</td>\n",
       "      <td>7.400000</td>\n",
       "      <td>7.300000</td>\n",
       "      <td>7.500000</td>\n",
       "      <td>7.300000</td>\n",
       "      <td>7.300000</td>\n",
       "      <td>7.500000</td>\n",
       "      <td>7.300000</td>\n",
       "      <td>7.400000</td>\n",
       "    </tr>\n",
       "    <tr>\n",
       "      <th>max</th>\n",
       "      <td>NaN</td>\n",
       "      <td>NaN</td>\n",
       "      <td>NaN</td>\n",
       "      <td>NaN</td>\n",
       "      <td>NaN</td>\n",
       "      <td>NaN</td>\n",
       "      <td>NaN</td>\n",
       "      <td>NaN</td>\n",
       "      <td>NaN</td>\n",
       "      <td>13.500000</td>\n",
       "      <td>...</td>\n",
       "      <td>7.500000</td>\n",
       "      <td>7.600000</td>\n",
       "      <td>7.500000</td>\n",
       "      <td>7.500000</td>\n",
       "      <td>7.800000</td>\n",
       "      <td>7.500000</td>\n",
       "      <td>7.500000</td>\n",
       "      <td>7.600000</td>\n",
       "      <td>7.500000</td>\n",
       "      <td>7.500000</td>\n",
       "    </tr>\n",
       "  </tbody>\n",
       "</table>\n",
       "<p>8 rows × 48107 columns</p>\n",
       "</div>"
      ],
      "text/plain": [
       "       ILMN_1343048  ILMN_1343049  ILMN_1343050  ILMN_1343052  ILMN_1343059  \\\n",
       "count           0.0           0.0           0.0           0.0           0.0   \n",
       "mean            NaN           NaN           NaN           NaN           NaN   \n",
       "std             NaN           NaN           NaN           NaN           NaN   \n",
       "min             NaN           NaN           NaN           NaN           NaN   \n",
       "25%             NaN           NaN           NaN           NaN           NaN   \n",
       "50%             NaN           NaN           NaN           NaN           NaN   \n",
       "75%             NaN           NaN           NaN           NaN           NaN   \n",
       "max             NaN           NaN           NaN           NaN           NaN   \n",
       "\n",
       "       ILMN_1343061  ILMN_1343062  ILMN_1343063  ILMN_1343064  ILMN_1343291  \\\n",
       "count           0.0           0.0           0.0           0.0     48.000000   \n",
       "mean            NaN           NaN           NaN           NaN     13.047917   \n",
       "std             NaN           NaN           NaN           NaN      0.245807   \n",
       "min             NaN           NaN           NaN           NaN     12.300000   \n",
       "25%             NaN           NaN           NaN           NaN     12.900000   \n",
       "50%             NaN           NaN           NaN           NaN     13.100000   \n",
       "75%             NaN           NaN           NaN           NaN     13.200000   \n",
       "max             NaN           NaN           NaN           NaN     13.500000   \n",
       "\n",
       "       ...  ILMN_3311145  ILMN_3311150  ILMN_3311155  ILMN_3311160  \\\n",
       "count  ...     48.000000     48.000000     48.000000     48.000000   \n",
       "mean   ...      7.247917      7.322917      7.293750      7.237500   \n",
       "std    ...      0.107168      0.127562      0.113749      0.108422   \n",
       "min    ...      7.000000      7.000000      7.100000      6.900000   \n",
       "25%    ...      7.200000      7.200000      7.200000      7.200000   \n",
       "50%    ...      7.250000      7.300000      7.300000      7.200000   \n",
       "75%    ...      7.300000      7.400000      7.400000      7.300000   \n",
       "max    ...      7.500000      7.600000      7.500000      7.500000   \n",
       "\n",
       "       ILMN_3311165  ILMN_3311170  ILMN_3311175  ILMN_3311180  ILMN_3311185  \\\n",
       "count     48.000000     48.000000     48.000000     48.000000     48.000000   \n",
       "mean       7.460417      7.241667      7.225000      7.360417      7.220833   \n",
       "std        0.128394      0.104847      0.106191      0.116216      0.100970   \n",
       "min        7.200000      7.000000      7.000000      7.200000      7.000000   \n",
       "25%        7.400000      7.200000      7.200000      7.300000      7.200000   \n",
       "50%        7.500000      7.200000      7.200000      7.300000      7.200000   \n",
       "75%        7.500000      7.300000      7.300000      7.500000      7.300000   \n",
       "max        7.800000      7.500000      7.500000      7.600000      7.500000   \n",
       "\n",
       "       ILMN_3311190  \n",
       "count     48.000000  \n",
       "mean       7.287500  \n",
       "std        0.098121  \n",
       "min        7.100000  \n",
       "25%        7.200000  \n",
       "50%        7.300000  \n",
       "75%        7.400000  \n",
       "max        7.500000  \n",
       "\n",
       "[8 rows x 48107 columns]"
      ]
     },
     "execution_count": 7,
     "metadata": {},
     "output_type": "execute_result"
    }
   ],
   "source": [
    "data_all.describe() ## transposto - por genes"
   ]
  },
  {
   "cell_type": "code",
   "execution_count": 8,
   "id": "d40323b2-0cbe-42d5-9ed7-ee258275f25f",
   "metadata": {},
   "outputs": [
    {
     "data": {
      "text/html": [
       "<div>\n",
       "<style scoped>\n",
       "    .dataframe tbody tr th:only-of-type {\n",
       "        vertical-align: middle;\n",
       "    }\n",
       "\n",
       "    .dataframe tbody tr th {\n",
       "        vertical-align: top;\n",
       "    }\n",
       "\n",
       "    .dataframe thead th {\n",
       "        text-align: right;\n",
       "    }\n",
       "</style>\n",
       "<table border=\"1\" class=\"dataframe\">\n",
       "  <thead>\n",
       "    <tr style=\"text-align: right;\">\n",
       "      <th></th>\n",
       "      <th>GSM1348553</th>\n",
       "      <th>GSM1348554</th>\n",
       "      <th>GSM1348555</th>\n",
       "      <th>GSM1348556</th>\n",
       "      <th>GSM1348557</th>\n",
       "      <th>GSM1348558</th>\n",
       "      <th>GSM1348559</th>\n",
       "      <th>GSM1348560</th>\n",
       "      <th>GSM1348561</th>\n",
       "      <th>GSM1348562</th>\n",
       "      <th>...</th>\n",
       "      <th>GSM1348591</th>\n",
       "      <th>GSM1348592</th>\n",
       "      <th>GSM1348593</th>\n",
       "      <th>GSM1348594</th>\n",
       "      <th>GSM1348595</th>\n",
       "      <th>GSM1348596</th>\n",
       "      <th>GSM1348597</th>\n",
       "      <th>GSM1348598</th>\n",
       "      <th>GSM1348599</th>\n",
       "      <th>GSM1348600</th>\n",
       "    </tr>\n",
       "  </thead>\n",
       "  <tbody>\n",
       "    <tr>\n",
       "      <th>count</th>\n",
       "      <td>47323.000000</td>\n",
       "      <td>47323.000000</td>\n",
       "      <td>47323.000000</td>\n",
       "      <td>47323.000000</td>\n",
       "      <td>47323.000000</td>\n",
       "      <td>47323.000000</td>\n",
       "      <td>47323.000000</td>\n",
       "      <td>47323.000000</td>\n",
       "      <td>47323.000000</td>\n",
       "      <td>47323.000000</td>\n",
       "      <td>...</td>\n",
       "      <td>47323.000000</td>\n",
       "      <td>47323.000000</td>\n",
       "      <td>47323.000000</td>\n",
       "      <td>47323.000000</td>\n",
       "      <td>47323.000000</td>\n",
       "      <td>47323.000000</td>\n",
       "      <td>47323.000000</td>\n",
       "      <td>47323.000000</td>\n",
       "      <td>47323.000000</td>\n",
       "      <td>47323.000000</td>\n",
       "    </tr>\n",
       "    <tr>\n",
       "      <th>mean</th>\n",
       "      <td>7.715842</td>\n",
       "      <td>7.715842</td>\n",
       "      <td>7.715842</td>\n",
       "      <td>7.715842</td>\n",
       "      <td>7.715844</td>\n",
       "      <td>7.715842</td>\n",
       "      <td>7.715842</td>\n",
       "      <td>7.715842</td>\n",
       "      <td>7.715844</td>\n",
       "      <td>7.715842</td>\n",
       "      <td>...</td>\n",
       "      <td>7.715842</td>\n",
       "      <td>7.715842</td>\n",
       "      <td>7.715842</td>\n",
       "      <td>7.715842</td>\n",
       "      <td>7.715844</td>\n",
       "      <td>7.715844</td>\n",
       "      <td>7.715842</td>\n",
       "      <td>7.715844</td>\n",
       "      <td>7.715842</td>\n",
       "      <td>7.715842</td>\n",
       "    </tr>\n",
       "    <tr>\n",
       "      <th>std</th>\n",
       "      <td>1.063854</td>\n",
       "      <td>1.063854</td>\n",
       "      <td>1.063854</td>\n",
       "      <td>1.063854</td>\n",
       "      <td>1.063854</td>\n",
       "      <td>1.063854</td>\n",
       "      <td>1.063854</td>\n",
       "      <td>1.063854</td>\n",
       "      <td>1.063853</td>\n",
       "      <td>1.063854</td>\n",
       "      <td>...</td>\n",
       "      <td>1.063854</td>\n",
       "      <td>1.063854</td>\n",
       "      <td>1.063854</td>\n",
       "      <td>1.063854</td>\n",
       "      <td>1.063854</td>\n",
       "      <td>1.063853</td>\n",
       "      <td>1.063854</td>\n",
       "      <td>1.063853</td>\n",
       "      <td>1.063854</td>\n",
       "      <td>1.063854</td>\n",
       "    </tr>\n",
       "    <tr>\n",
       "      <th>min</th>\n",
       "      <td>6.800000</td>\n",
       "      <td>6.800000</td>\n",
       "      <td>6.800000</td>\n",
       "      <td>6.800000</td>\n",
       "      <td>6.800000</td>\n",
       "      <td>6.800000</td>\n",
       "      <td>6.800000</td>\n",
       "      <td>6.800000</td>\n",
       "      <td>6.800000</td>\n",
       "      <td>6.800000</td>\n",
       "      <td>...</td>\n",
       "      <td>6.800000</td>\n",
       "      <td>6.800000</td>\n",
       "      <td>6.800000</td>\n",
       "      <td>6.800000</td>\n",
       "      <td>6.800000</td>\n",
       "      <td>6.800000</td>\n",
       "      <td>6.800000</td>\n",
       "      <td>6.800000</td>\n",
       "      <td>6.800000</td>\n",
       "      <td>6.800000</td>\n",
       "    </tr>\n",
       "    <tr>\n",
       "      <th>25%</th>\n",
       "      <td>7.200000</td>\n",
       "      <td>7.200000</td>\n",
       "      <td>7.200000</td>\n",
       "      <td>7.200000</td>\n",
       "      <td>7.200000</td>\n",
       "      <td>7.200000</td>\n",
       "      <td>7.200000</td>\n",
       "      <td>7.200000</td>\n",
       "      <td>7.200000</td>\n",
       "      <td>7.200000</td>\n",
       "      <td>...</td>\n",
       "      <td>7.200000</td>\n",
       "      <td>7.200000</td>\n",
       "      <td>7.200000</td>\n",
       "      <td>7.200000</td>\n",
       "      <td>7.200000</td>\n",
       "      <td>7.200000</td>\n",
       "      <td>7.200000</td>\n",
       "      <td>7.200000</td>\n",
       "      <td>7.200000</td>\n",
       "      <td>7.200000</td>\n",
       "    </tr>\n",
       "    <tr>\n",
       "      <th>50%</th>\n",
       "      <td>7.400000</td>\n",
       "      <td>7.400000</td>\n",
       "      <td>7.400000</td>\n",
       "      <td>7.400000</td>\n",
       "      <td>7.400000</td>\n",
       "      <td>7.400000</td>\n",
       "      <td>7.400000</td>\n",
       "      <td>7.400000</td>\n",
       "      <td>7.400000</td>\n",
       "      <td>7.400000</td>\n",
       "      <td>...</td>\n",
       "      <td>7.400000</td>\n",
       "      <td>7.400000</td>\n",
       "      <td>7.400000</td>\n",
       "      <td>7.400000</td>\n",
       "      <td>7.400000</td>\n",
       "      <td>7.400000</td>\n",
       "      <td>7.400000</td>\n",
       "      <td>7.400000</td>\n",
       "      <td>7.400000</td>\n",
       "      <td>7.400000</td>\n",
       "    </tr>\n",
       "    <tr>\n",
       "      <th>75%</th>\n",
       "      <td>7.600000</td>\n",
       "      <td>7.600000</td>\n",
       "      <td>7.600000</td>\n",
       "      <td>7.600000</td>\n",
       "      <td>7.600000</td>\n",
       "      <td>7.600000</td>\n",
       "      <td>7.600000</td>\n",
       "      <td>7.600000</td>\n",
       "      <td>7.600000</td>\n",
       "      <td>7.600000</td>\n",
       "      <td>...</td>\n",
       "      <td>7.600000</td>\n",
       "      <td>7.600000</td>\n",
       "      <td>7.600000</td>\n",
       "      <td>7.600000</td>\n",
       "      <td>7.600000</td>\n",
       "      <td>7.600000</td>\n",
       "      <td>7.600000</td>\n",
       "      <td>7.600000</td>\n",
       "      <td>7.600000</td>\n",
       "      <td>7.600000</td>\n",
       "    </tr>\n",
       "    <tr>\n",
       "      <th>max</th>\n",
       "      <td>15.300000</td>\n",
       "      <td>15.300000</td>\n",
       "      <td>15.300000</td>\n",
       "      <td>15.300000</td>\n",
       "      <td>15.300000</td>\n",
       "      <td>15.300000</td>\n",
       "      <td>15.300000</td>\n",
       "      <td>15.300000</td>\n",
       "      <td>15.300000</td>\n",
       "      <td>15.300000</td>\n",
       "      <td>...</td>\n",
       "      <td>15.300000</td>\n",
       "      <td>15.300000</td>\n",
       "      <td>15.300000</td>\n",
       "      <td>15.300000</td>\n",
       "      <td>15.300000</td>\n",
       "      <td>15.300000</td>\n",
       "      <td>15.300000</td>\n",
       "      <td>15.300000</td>\n",
       "      <td>15.300000</td>\n",
       "      <td>15.300000</td>\n",
       "    </tr>\n",
       "  </tbody>\n",
       "</table>\n",
       "<p>8 rows × 48 columns</p>\n",
       "</div>"
      ],
      "text/plain": [
       "         GSM1348553    GSM1348554    GSM1348555    GSM1348556    GSM1348557  \\\n",
       "count  47323.000000  47323.000000  47323.000000  47323.000000  47323.000000   \n",
       "mean       7.715842      7.715842      7.715842      7.715842      7.715844   \n",
       "std        1.063854      1.063854      1.063854      1.063854      1.063854   \n",
       "min        6.800000      6.800000      6.800000      6.800000      6.800000   \n",
       "25%        7.200000      7.200000      7.200000      7.200000      7.200000   \n",
       "50%        7.400000      7.400000      7.400000      7.400000      7.400000   \n",
       "75%        7.600000      7.600000      7.600000      7.600000      7.600000   \n",
       "max       15.300000     15.300000     15.300000     15.300000     15.300000   \n",
       "\n",
       "         GSM1348558    GSM1348559    GSM1348560    GSM1348561    GSM1348562  \\\n",
       "count  47323.000000  47323.000000  47323.000000  47323.000000  47323.000000   \n",
       "mean       7.715842      7.715842      7.715842      7.715844      7.715842   \n",
       "std        1.063854      1.063854      1.063854      1.063853      1.063854   \n",
       "min        6.800000      6.800000      6.800000      6.800000      6.800000   \n",
       "25%        7.200000      7.200000      7.200000      7.200000      7.200000   \n",
       "50%        7.400000      7.400000      7.400000      7.400000      7.400000   \n",
       "75%        7.600000      7.600000      7.600000      7.600000      7.600000   \n",
       "max       15.300000     15.300000     15.300000     15.300000     15.300000   \n",
       "\n",
       "       ...    GSM1348591    GSM1348592    GSM1348593    GSM1348594  \\\n",
       "count  ...  47323.000000  47323.000000  47323.000000  47323.000000   \n",
       "mean   ...      7.715842      7.715842      7.715842      7.715842   \n",
       "std    ...      1.063854      1.063854      1.063854      1.063854   \n",
       "min    ...      6.800000      6.800000      6.800000      6.800000   \n",
       "25%    ...      7.200000      7.200000      7.200000      7.200000   \n",
       "50%    ...      7.400000      7.400000      7.400000      7.400000   \n",
       "75%    ...      7.600000      7.600000      7.600000      7.600000   \n",
       "max    ...     15.300000     15.300000     15.300000     15.300000   \n",
       "\n",
       "         GSM1348595    GSM1348596    GSM1348597    GSM1348598    GSM1348599  \\\n",
       "count  47323.000000  47323.000000  47323.000000  47323.000000  47323.000000   \n",
       "mean       7.715844      7.715844      7.715842      7.715844      7.715842   \n",
       "std        1.063854      1.063853      1.063854      1.063853      1.063854   \n",
       "min        6.800000      6.800000      6.800000      6.800000      6.800000   \n",
       "25%        7.200000      7.200000      7.200000      7.200000      7.200000   \n",
       "50%        7.400000      7.400000      7.400000      7.400000      7.400000   \n",
       "75%        7.600000      7.600000      7.600000      7.600000      7.600000   \n",
       "max       15.300000     15.300000     15.300000     15.300000     15.300000   \n",
       "\n",
       "         GSM1348600  \n",
       "count  47323.000000  \n",
       "mean       7.715842  \n",
       "std        1.063854  \n",
       "min        6.800000  \n",
       "25%        7.200000  \n",
       "50%        7.400000  \n",
       "75%        7.600000  \n",
       "max       15.300000  \n",
       "\n",
       "[8 rows x 48 columns]"
      ]
     },
     "execution_count": 8,
     "metadata": {},
     "output_type": "execute_result"
    }
   ],
   "source": [
    "data.describe() ## por amostras (pacientes)"
   ]
  },
  {
   "cell_type": "code",
   "execution_count": 9,
   "id": "301e50b6-ac51-4b6b-814a-76dc2092343e",
   "metadata": {},
   "outputs": [
    {
     "data": {
      "text/plain": [
       "sample         object\n",
       "individual     object\n",
       "time           object\n",
       "description    object\n",
       "dtype: object"
      ]
     },
     "execution_count": 9,
     "metadata": {},
     "output_type": "execute_result"
    }
   ],
   "source": [
    "# tipo de atributos\n",
    "meta.dtypes"
   ]
  },
  {
   "cell_type": "code",
   "execution_count": 10,
   "id": "25cd039d-a54d-41c4-bd05-f74aef27c389",
   "metadata": {},
   "outputs": [
    {
     "data": {
      "text/html": [
       "<div>\n",
       "<style scoped>\n",
       "    .dataframe tbody tr th:only-of-type {\n",
       "        vertical-align: middle;\n",
       "    }\n",
       "\n",
       "    .dataframe tbody tr th {\n",
       "        vertical-align: top;\n",
       "    }\n",
       "\n",
       "    .dataframe thead th {\n",
       "        text-align: right;\n",
       "    }\n",
       "</style>\n",
       "<table border=\"1\" class=\"dataframe\">\n",
       "  <thead>\n",
       "    <tr style=\"text-align: right;\">\n",
       "      <th></th>\n",
       "      <th>sample</th>\n",
       "      <th>individual</th>\n",
       "      <th>time</th>\n",
       "      <th>description</th>\n",
       "    </tr>\n",
       "  </thead>\n",
       "  <tbody>\n",
       "    <tr>\n",
       "      <th>count</th>\n",
       "      <td>48</td>\n",
       "      <td>48</td>\n",
       "      <td>48</td>\n",
       "      <td>48</td>\n",
       "    </tr>\n",
       "    <tr>\n",
       "      <th>unique</th>\n",
       "      <td>48</td>\n",
       "      <td>12</td>\n",
       "      <td>4</td>\n",
       "      <td>48</td>\n",
       "    </tr>\n",
       "    <tr>\n",
       "      <th>top</th>\n",
       "      <td>GSM1348553</td>\n",
       "      <td>subject 1</td>\n",
       "      <td>hour 1.5</td>\n",
       "      <td>Value for GSM1348553: Subject 1 - 1,5h post-me...</td>\n",
       "    </tr>\n",
       "    <tr>\n",
       "      <th>freq</th>\n",
       "      <td>1</td>\n",
       "      <td>4</td>\n",
       "      <td>12</td>\n",
       "      <td>1</td>\n",
       "    </tr>\n",
       "  </tbody>\n",
       "</table>\n",
       "</div>"
      ],
      "text/plain": [
       "            sample individual      time  \\\n",
       "count           48         48        48   \n",
       "unique          48         12         4   \n",
       "top     GSM1348553  subject 1  hour 1.5   \n",
       "freq             1          4        12   \n",
       "\n",
       "                                              description  \n",
       "count                                                  48  \n",
       "unique                                                 48  \n",
       "top     Value for GSM1348553: Subject 1 - 1,5h post-me...  \n",
       "freq                                                    1  "
      ]
     },
     "execution_count": 10,
     "metadata": {},
     "output_type": "execute_result"
    }
   ],
   "source": [
    "meta.describe(include = \"all\")"
   ]
  },
  {
   "cell_type": "code",
   "execution_count": 11,
   "id": "164d7d91-aeef-4202-ba94-46490fe9c0d8",
   "metadata": {},
   "outputs": [
    {
     "data": {
      "text/plain": [
       "37632"
      ]
     },
     "execution_count": 11,
     "metadata": {},
     "output_type": "execute_result"
    }
   ],
   "source": [
    "data_all.isnull().sum().sum() ## missing values no dataset"
   ]
  },
  {
   "cell_type": "code",
   "execution_count": 12,
   "id": "c78b01c8-e01f-4953-aa8a-4ce83dee0117",
   "metadata": {},
   "outputs": [
    {
     "data": {
      "text/plain": [
       "ILMN_1343048    48\n",
       "ILMN_1343049    48\n",
       "ILMN_1343050    48\n",
       "ILMN_1343052    48\n",
       "ILMN_1343059    48\n",
       "                ..\n",
       "ILMN_3311170     0\n",
       "ILMN_3311175     0\n",
       "ILMN_3311180     0\n",
       "ILMN_3311185     0\n",
       "ILMN_3311190     0\n",
       "Length: 48107, dtype: int64"
      ]
     },
     "execution_count": 12,
     "metadata": {},
     "output_type": "execute_result"
    }
   ],
   "source": [
    "data_all.isnull().sum()"
   ]
  },
  {
   "cell_type": "code",
   "execution_count": 13,
   "id": "a2057a02-f64e-4c57-9fd3-201ea2381b35",
   "metadata": {},
   "outputs": [
    {
     "data": {
      "text/plain": [
       "0"
      ]
     },
     "execution_count": 13,
     "metadata": {},
     "output_type": "execute_result"
    }
   ],
   "source": [
    "meta.isnull().sum().sum() ## missing values no metadaset"
   ]
  },
  {
   "cell_type": "markdown",
   "id": "04f603d1-6664-412f-870e-054714f45456",
   "metadata": {},
   "source": [
    "### Tratamento de missing values"
   ]
  },
  {
   "cell_type": "markdown",
   "id": "ae1750be-0831-44ea-9c41-7f75304fc3e3",
   "metadata": {},
   "source": [
    "Através da análise de missing values, foi possível inferir que existem 37632 valores nulos no dataset 'gds5473.csv'.\n",
    "Desta forma, considerou-se que o tratamento mais adequado seria proceder à remoção dos mesmos.\n"
   ]
  },
  {
   "cell_type": "code",
   "execution_count": 14,
   "id": "b5a79f21-363a-4b3b-ab46-25fb1f93d590",
   "metadata": {},
   "outputs": [
    {
     "data": {
      "text/plain": [
       "(48, 47323)"
      ]
     },
     "execution_count": 14,
     "metadata": {},
     "output_type": "execute_result"
    }
   ],
   "source": [
    "data_all.dropna(axis=\"columns\", inplace=True)             \n",
    "data.dropna(axis=0,inplace=True )\n",
    "data_all.shape"
   ]
  },
  {
   "cell_type": "markdown",
   "id": "adeb858d-8003-4fd7-afc5-28bac2f0454e",
   "metadata": {},
   "source": [
    "Com o tratamento dos valores nulos, restam 47323 genes a serem analisados"
   ]
  },
  {
   "cell_type": "markdown",
   "id": "d809f627-17e4-4586-80d5-7c577c79351d",
   "metadata": {},
   "source": [
    "### Número de indíviduos presentes no ensaio"
   ]
  },
  {
   "cell_type": "code",
   "execution_count": 15,
   "id": "4a02f287-528e-4a2e-8a8f-c86511402711",
   "metadata": {},
   "outputs": [
    {
     "data": {
      "text/plain": [
       "<Axes: >"
      ]
     },
     "execution_count": 15,
     "metadata": {},
     "output_type": "execute_result"
    },
    {
     "data": {
      "image/png": "[encoded data removed]",
      "text/plain": [
       "<Figure size 640x480 with 1 Axes>"
      ]
     },
     "metadata": {},
     "output_type": "display_data"
    }
   ],
   "source": [
    "meta.groupby(\"individual\").size().plot.pie()"
   ]
  },
  {
   "cell_type": "code",
   "execution_count": 16,
   "id": "f5178cf6-1e52-4bd2-bd30-784e7d874e03",
   "metadata": {},
   "outputs": [
    {
     "data": {
      "text/plain": [
       "individual\n",
       "subject 1     4\n",
       "subject 10    4\n",
       "subject 11    4\n",
       "subject 12    4\n",
       "subject 2     4\n",
       "subject 3     4\n",
       "subject 4     4\n",
       "subject 5     4\n",
       "subject 6     4\n",
       "subject 7     4\n",
       "subject 8     4\n",
       "subject 9     4\n",
       "dtype: int64"
      ]
     },
     "execution_count": 16,
     "metadata": {},
     "output_type": "execute_result"
    }
   ],
   "source": [
    "meta.groupby(\"individual\").size() "
   ]
  },
  {
   "cell_type": "markdown",
   "id": "f009a2e4-9932-467c-9370-ae036b0fa0b4",
   "metadata": {},
   "source": [
    "É possível observar que existem 12 indíviduos presentes no estudo. Desta forma, cada indivíduo terá 4 amostras."
   ]
  },
  {
   "cell_type": "markdown",
   "id": "770fc162-cb72-47c4-8e8e-7b1bca390332",
   "metadata": {},
   "source": [
    "### Seleção de variáveis"
   ]
  },
  {
   "cell_type": "markdown",
   "id": "3d86462d-93be-4e70-86da-66a19a2d341f",
   "metadata": {},
   "source": [
    "Analisando todas as variáveis do metadataset,chegou-se à conclusão que a única relevante é o tempo de jejum até à recolha da amostra (time).\n",
    "Com efeito, procedeu-se à remoção das restantes variáveis."
   ]
  },
  {
   "cell_type": "code",
   "execution_count": 17,
   "id": "6e7e0859-32a6-4704-ac94-83eb46d33067",
   "metadata": {},
   "outputs": [
    {
     "data": {
      "text/html": [
       "<div>\n",
       "<style scoped>\n",
       "    .dataframe tbody tr th:only-of-type {\n",
       "        vertical-align: middle;\n",
       "    }\n",
       "\n",
       "    .dataframe tbody tr th {\n",
       "        vertical-align: top;\n",
       "    }\n",
       "\n",
       "    .dataframe thead th {\n",
       "        text-align: right;\n",
       "    }\n",
       "</style>\n",
       "<table border=\"1\" class=\"dataframe\">\n",
       "  <thead>\n",
       "    <tr style=\"text-align: right;\">\n",
       "      <th></th>\n",
       "      <th>time</th>\n",
       "    </tr>\n",
       "  </thead>\n",
       "  <tbody>\n",
       "    <tr>\n",
       "      <th>GSM1348553</th>\n",
       "      <td>hour 1.5</td>\n",
       "    </tr>\n",
       "    <tr>\n",
       "      <th>GSM1348554</th>\n",
       "      <td>hour 4</td>\n",
       "    </tr>\n",
       "    <tr>\n",
       "      <th>GSM1348555</th>\n",
       "      <td>hour 10</td>\n",
       "    </tr>\n",
       "    <tr>\n",
       "      <th>GSM1348556</th>\n",
       "      <td>hour 24</td>\n",
       "    </tr>\n",
       "    <tr>\n",
       "      <th>GSM1348557</th>\n",
       "      <td>hour 1.5</td>\n",
       "    </tr>\n",
       "  </tbody>\n",
       "</table>\n",
       "</div>"
      ],
      "text/plain": [
       "                time\n",
       "GSM1348553  hour 1.5\n",
       "GSM1348554    hour 4\n",
       "GSM1348555   hour 10\n",
       "GSM1348556   hour 24\n",
       "GSM1348557  hour 1.5"
      ]
     },
     "execution_count": 17,
     "metadata": {},
     "output_type": "execute_result"
    }
   ],
   "source": [
    "meta.drop(['sample', 'description', 'individual'], axis=1, inplace=True)\n",
    "meta.head()"
   ]
  },
  {
   "cell_type": "markdown",
   "id": "05a4fbf1-008d-4e06-818e-3f461c7484e1",
   "metadata": {},
   "source": [
    "### Exploração Gráfica"
   ]
  },
  {
   "cell_type": "code",
   "execution_count": 18,
   "id": "2e8d7865-e840-4f4f-8ebd-e3d733370dbe",
   "metadata": {},
   "outputs": [
    {
     "data": {
      "text/plain": [
       "<Axes: >"
      ]
     },
     "execution_count": 18,
     "metadata": {},
     "output_type": "execute_result"
    },
    {
     "data": {
      "image/png": "[encoded data removed]",
      "text/plain": [
       "<Figure size 640x480 with 1 Axes>"
      ]
     },
     "metadata": {},
     "output_type": "display_data"
    }
   ],
   "source": [
    "meta.groupby(\"time\").size().plot.pie()"
   ]
  },
  {
   "cell_type": "code",
   "execution_count": 19,
   "id": "31ece050-373e-4e03-a8c1-ddacce9483b1",
   "metadata": {},
   "outputs": [
    {
     "data": {
      "text/plain": [
       "time\n",
       "hour 1.5    12\n",
       "hour 10     12\n",
       "hour 24     12\n",
       "hour 4      12\n",
       "dtype: int64"
      ]
     },
     "execution_count": 19,
     "metadata": {},
     "output_type": "execute_result"
    }
   ],
   "source": [
    "meta.groupby(\"time\").size() "
   ]
  },
  {
   "cell_type": "markdown",
   "id": "fc3747ac-c872-4180-9c67-41797cefd78f",
   "metadata": {},
   "source": [
    "Através da exploração gráfica, foi possível inferir que o target está balanceado, possuindo para cada classe 12 amostras analisadas."
   ]
  },
  {
   "cell_type": "markdown",
   "id": "11a78f34-4d37-471a-b576-17a85bd3cd3d",
   "metadata": {},
   "source": [
    "### Análise da variabilidade"
   ]
  },
  {
   "cell_type": "markdown",
   "id": "04a8dff9-9a7d-47fa-b7bf-210a0e92e116",
   "metadata": {},
   "source": [
    " Variabilidade média dos níveis de expressão génica entre as amostras para todos os genes considerados."
   ]
  },
  {
   "cell_type": "code",
   "execution_count": 20,
   "id": "6799959f-ea9b-4d0a-9800-fbb1f9a32482",
   "metadata": {},
   "outputs": [
    {
     "name": "stdout",
     "output_type": "stream",
     "text": [
      "(48, 47323)\n"
     ]
    }
   ],
   "source": [
    "input_data = data_all.values \n",
    "\n",
    "print(input_data.shape)"
   ]
  },
  {
   "cell_type": "code",
   "execution_count": 21,
   "id": "384adc1a-c17b-4956-b659-1cd1673cc376",
   "metadata": {},
   "outputs": [
    {
     "name": "stdout",
     "output_type": "stream",
     "text": [
      "(47323,)\n"
     ]
    },
    {
     "data": {
      "text/plain": [
       "0.025840169846351436"
      ]
     },
     "execution_count": 21,
     "metadata": {},
     "output_type": "execute_result"
    }
   ],
   "source": [
    "\n",
    "variances = input_data.var(axis = 0) # calculate the variance for each gene\n",
    "\n",
    "print(variances.shape)\n",
    "\n",
    "medvar = variances.mean()\n",
    "medvar"
   ]
  },
  {
   "cell_type": "code",
   "execution_count": 22,
   "id": "3780c43f-b94a-4833-b50a-3f69e83d7398",
   "metadata": {},
   "outputs": [
    {
     "data": {
      "image/png": "[encoded data removed]",
      "text/plain": [
       "<Figure size 640x480 with 1 Axes>"
      ]
     },
     "metadata": {},
     "output_type": "display_data"
    }
   ],
   "source": [
    "plt.hist(variances, bins = 30)\n",
    "plt.xlabel('Variances')\n",
    "plt.ylabel('Probability density')\n",
    "plt.title(r'Histogram of variances')\n",
    "plt.show()"
   ]
  },
  {
   "cell_type": "markdown",
   "id": "9eee863e-0763-4df2-97f5-e5f5658e04d5",
   "metadata": {},
   "source": [
    "A partir da análise do gráfico, os níveis de expressão de genes tendem a ser relativamente estáveis ou consistentes entre as amostras, pelo menos em termos de variabilidade."
   ]
  },
  {
   "cell_type": "code",
   "execution_count": 23,
   "id": "63db3ac0-985f-4019-b099-e1673d9fcc95",
   "metadata": {},
   "outputs": [
    {
     "data": {
      "text/plain": [
       "(48, 2371)"
      ]
     },
     "execution_count": 23,
     "metadata": {},
     "output_type": "execute_result"
    }
   ],
   "source": [
    "# variability filters (flat patterns)\n",
    "from sklearn.feature_selection import VarianceThreshold\n",
    "sel = VarianceThreshold(threshold= medvar*3)\n",
    "input_filt = sel.fit_transform(input_data)\n",
    "input_filt.shape"
   ]
  },
  {
   "cell_type": "markdown",
   "id": "125dec01-56b5-46ce-af94-5216819e4eef",
   "metadata": {},
   "source": [
    "### Expressão Diferencial de genes"
   ]
  },
  {
   "cell_type": "markdown",
   "id": "96137eaa-1431-4059-94be-25f161beff13",
   "metadata": {},
   "source": [
    "Foi elaborada uma análise de seleção de características usando o método ANOVA (ou teste t) para selecionar genes diferencialmente expressos. \n",
    " Os genes que apresentam diferenças estatisticamente significativas são os que são destacados como genes diferencialmente expressos.\n",
    " O p-value para a rejeição da hipótese nula foi de 0.01."
   ]
  },
  {
   "cell_type": "code",
   "execution_count": 24,
   "id": "b606ba5e-f40d-4f74-996c-a5c614c28258",
   "metadata": {},
   "outputs": [
    {
     "name": "stdout",
     "output_type": "stream",
     "text": [
      "Index(['ILMN_1651278', 'ILMN_1651285', 'ILMN_1651628', 'ILMN_1651767',\n",
      "       'ILMN_1651964', 'ILMN_1652082', 'ILMN_1652085', 'ILMN_1652246',\n",
      "       'ILMN_1652407', 'ILMN_1652549',\n",
      "       ...\n",
      "       'ILMN_3307782', 'ILMN_3307791', 'ILMN_3307892', 'ILMN_3307906',\n",
      "       'ILMN_3307958', 'ILMN_3309494', 'ILMN_3310118', 'ILMN_3310226',\n",
      "       'ILMN_3310835', 'ILMN_3310840'],\n",
      "      dtype='object', length=2047)\n"
     ]
    }
   ],
   "source": [
    "from sklearn.feature_selection import SelectPercentile, f_classif\n",
    "\n",
    "# fclassif - ANOVA or t-test \n",
    "# We are selecting genes with the lowest p-value (10% of genes with the lowes value)\n",
    "selector = SelectPercentile(f_classif, percentile=10)\n",
    "\n",
    "output_time = meta.values[:,0] #todas as linhas e apenas primeira coluna\n",
    "\n",
    "selector.fit_transform(data_all, output_time) # responsável pelo treino do modelo\n",
    "genes_dif = np.where(selector.pvalues_ <0.01) # selecionar só as colunas com os genes diferencialmente expressos\n",
    "\n",
    "print(data_all.columns[genes_dif])\n"
   ]
  },
  {
   "cell_type": "markdown",
   "id": "3af2def9-fcaa-4ed5-aa39-c42fe0d11432",
   "metadata": {},
   "source": [
    "## Etapa 2"
   ]
  },
  {
   "cell_type": "markdown",
   "id": "0bc86073-ec56-40e8-b871-8a3366f4ca71",
   "metadata": {},
   "source": [
    "#  Redução de Dimensionalidade e Clustering de Dados"
   ]
  },
  {
   "cell_type": "markdown",
   "id": "6986f841-7a40-4aed-8f33-d3156d38e38f",
   "metadata": {},
   "source": [
    "#### Pré-Processamento dos dados"
   ]
  },
  {
   "cell_type": "code",
   "execution_count": 25,
   "id": "b81c427f-f53d-4e30-8ef6-df97042ddb64",
   "metadata": {},
   "outputs": [
    {
     "name": "stdout",
     "output_type": "stream",
     "text": [
      "Average:  -1.6160869582580446e-16\n",
      "Standard Deviation:  1.0000000000000002\n"
     ]
    }
   ],
   "source": [
    "data_scale = preprocessing.scale(input_data) #Padronização dos dados de entrada\n",
    "# Média e desvio padrão dos dados padronizados\n",
    "print(\"Average: \", data_scale.mean())        \n",
    "print(\"Standard Deviation: \", data_scale.std())\n",
    "#Variável input_dif vai conter a coluna correspondente aos genes diferenciados padronizados\n",
    "input_dif = data_scale[:,genes_dif[0]]"
   ]
  },
  {
   "cell_type": "markdown",
   "id": "69b9439c-cfbd-414e-94ea-04ddd092fc25",
   "metadata": {},
   "source": [
    "### PCA"
   ]
  },
  {
   "cell_type": "code",
   "execution_count": null,
   "id": "7c2d5fa2-e7bf-4682-a184-c3c7ab5c9794",
   "metadata": {},
   "outputs": [],
   "source": [
    "# seleção nº elementos principais de forma a representar 90% da variância total dos dados \n",
    "pca = PCA(n_components=0.9) \n",
    "X_r = pca.fit(data_scale).transform(data_scale)\n",
    "\n",
    "print('Explained Variance: %s'% str(pca.explained_variance_ratio_))\n",
    "pca.explained_variance_ratio_.sum()"
   ]
  },
  {
   "cell_type": "code",
   "execution_count": null,
   "id": "60db3d34-eae3-493f-aa08-fc3788015bf6",
   "metadata": {},
   "outputs": [],
   "source": [
    "X_r.shape[1]"
   ]
  },
  {
   "cell_type": "markdown",
   "id": "e4da800f-2e48-4cab-b621-5ab10fe7e49b",
   "metadata": {},
   "source": [
    "41 componentes explicam 90% da variabilidade."
   ]
  },
  {
   "cell_type": "code",
   "execution_count": null,
   "id": "1cb5f1a5-69af-44f1-88df-efd97f456cdc",
   "metadata": {},
   "outputs": [],
   "source": [
    "n = 41 # nº total de componentes principais\n",
    "plt.figure(figsize=(12, 6))\n",
    "plt.bar(range(n), pca.explained_variance_ratio_*100)\n",
    "plt.xticks(range(n), ['PC'+str(i) for i in range(1,n+1)],rotation=45)\n",
    "plt.title(\"Variância explicada por PC\")\n",
    "plt.ylabel(\"Percentagem\")\n",
    "plt.xlabel(\"Componente Principal\")\n",
    "plt.tight_layout()\n",
    "plt.show() "
   ]
  },
  {
   "cell_type": "markdown",
   "id": "76d15fd2-ce7e-4eea-9e1b-0fbea9b91b51",
   "metadata": {},
   "source": [
    "Através da análise, as proporções da variância total explicadas por cada um dos componentes principais obtidos após a aplicação da Análise de Componentes Principais (PCA) nos dados, não foi possível realizar a redução de dimensionalidade, visto que cada componente retém percentagens da variância total muito baixas."
   ]
  },
  {
   "cell_type": "code",
   "execution_count": null,
   "id": "198d6894-f09b-415b-b3fb-413601ebe03c",
   "metadata": {},
   "outputs": [],
   "source": [
    "plt.figure()\n",
    "for c, name in zip(\"rgbc\", ['hour 1.5', 'hour 4' ,'hour 10','hour 24']):\n",
    "    plt.scatter(X_r[meta['time'] == name, 0], X_r[meta['time'] == name, 1], c=c, label=name)\n",
    "plt.legend()\n",
    "plt.title('Scores plot PCA')\n",
    "plt.xlabel('PC1')\n",
    "plt.ylabel('PC2')\n",
    "plt.show()"
   ]
  },
  {
   "cell_type": "markdown",
   "id": "6e8d4416-ba33-4580-96c6-2ec1745274c7",
   "metadata": {},
   "source": [
    "### Hierarchical clustering"
   ]
  },
  {
   "cell_type": "code",
   "execution_count": null,
   "id": "ad6fb048-8ff8-431d-bcb1-a28e007387d3",
   "metadata": {},
   "outputs": [],
   "source": [
    "from sklearn.cluster import AgglomerativeClustering\n",
    "hclust = AgglomerativeClustering(n_clusters=4, metric=\"euclidean\", linkage=\"complete\")\n",
    "hclust.fit(data_scale) #"
   ]
  },
  {
   "cell_type": "code",
   "execution_count": null,
   "id": "bd75e4c9-0e3c-487b-8572-f7250c096d4f",
   "metadata": {},
   "outputs": [],
   "source": [
    "# Elaboração de uma tabela cruzada entre o tempo e o clustering\n",
    "res_hc = hclust.labels_\n",
    "pd.crosstab (meta[\"time\"], res_hc)\n"
   ]
  },
  {
   "cell_type": "markdown",
   "id": "6f2a12ff-4397-4640-9410-037743243649",
   "metadata": {},
   "source": [
    "Denotar que não é possível retirar conclusões da tabela anterior, uma vez que os clusters apresentam uma grande dispersividade. "
   ]
  },
  {
   "cell_type": "markdown",
   "id": "43c1e160-dc8d-4fb7-8d05-5e73da8b45ea",
   "metadata": {},
   "source": [
    "### K-means clustering"
   ]
  },
  {
   "cell_type": "code",
   "execution_count": null,
   "id": "ab099e89-eea3-4262-bf9b-59575cde1e09",
   "metadata": {},
   "outputs": [],
   "source": [
    "from sklearn.cluster import KMeans\n",
    "k=4\n",
    "kmeans = KMeans(n_clusters=k, max_iter = 1000, n_init = 10)\n",
    "kmeans.fit(data_scale)\n",
    "labels = kmeans.labels_\n",
    "centroids= kmeans.cluster_centers_\n",
    "pd.crosstab (labels,meta[\"time\"],rownames=['clusters'])"
   ]
  },
  {
   "cell_type": "markdown",
   "id": "b8b09b18-5428-4dca-a7f3-2b4f4326a363",
   "metadata": {},
   "source": [
    "Através da análise dos resultados obtidos sem filtro, mais uma vez não é possível retirar conclusões. Procedeu-se assim à aplicação do filtro da Expressão des genes diferenciais."
   ]
  },
  {
   "cell_type": "markdown",
   "id": "c8c3a232-8ac7-4756-b713-e3f51ecbafdb",
   "metadata": {},
   "source": [
    "**Tendo em conta a Expressão de Gene Diferencial :**"
   ]
  },
  {
   "cell_type": "code",
   "execution_count": null,
   "id": "43d173b5-286d-4076-bbd0-6b39b29dd39c",
   "metadata": {},
   "outputs": [],
   "source": [
    "pca = PCA(n_components=41)\n",
    "X_r = pca.fit(input_dif).transform(input_dif)\n",
    "\n",
    "print('Explained Variance: %s'% str(pca.explained_variance_ratio_))\n",
    "pca.explained_variance_ratio_.sum()"
   ]
  },
  {
   "cell_type": "code",
   "execution_count": null,
   "id": "3812faf1-53d2-426f-bb35-313b06ab9343",
   "metadata": {
    "scrolled": true
   },
   "outputs": [],
   "source": [
    "n = 41\n",
    "plt.figure(figsize=(12, 6))\n",
    "plt.bar(range(n), pca.explained_variance_ratio_*100)\n",
    "plt.xticks(range(n), ['PC'+str(i) for i in range(1,n+1)],rotation=45)\n",
    "plt.title(\"Variância explicada por PC\")\n",
    "plt.xlabel(\"Componente Principal\")\n",
    "plt.ylabel(\"Percentagem\")\n",
    "plt.tight_layout()\n",
    "plt.show()"
   ]
  },
  {
   "cell_type": "markdown",
   "id": "a8b590d1-0c88-42ae-af60-a9437cfb31ae",
   "metadata": {},
   "source": [
    "\n",
    "Após a aplicação do filtro, verifica-se que os resultados melhoraram significativamente, uma vez que os 2 primeiros componentes PC1 e PC2 explicam  cerca de 43% da variabilidade total dos dados. De realçar que no caso anterior, os dois primeiros componentes apenas representavam cerca de 12% da variância total dos dados.\n",
    "Tal facto acontece devido à seleção dos genes diferencialmente expressos. "
   ]
  },
  {
   "cell_type": "code",
   "execution_count": null,
   "id": "9ab2a606-c429-413d-9b4d-fa1c7fb6d95b",
   "metadata": {},
   "outputs": [],
   "source": [
    "plt.figure()\n",
    "for c, name in zip(\"rgbc\", ['hour 1.5', 'hour 4' ,'hour 10','hour 24']):\n",
    "    plt.scatter(X_r[output_time == name, 0], X_r[output_time == name, 1], c=c, label=name)\n",
    "plt.legend()\n",
    "plt.title(' scores plot PCA')\n",
    "plt.show()"
   ]
  },
  {
   "cell_type": "markdown",
   "id": "f31a6ce3-3755-48d2-90fb-61c9100542cb",
   "metadata": {},
   "source": [
    "Com recurso ao scores plot, pode visualizar-se a distribuição das amostras num espaço de menor dimensão, depois de aplicada a técnica de redução de dimensionalidade PCA. "
   ]
  },
  {
   "cell_type": "markdown",
   "id": "07d733a2-1f2c-42b9-896e-9663d147f78d",
   "metadata": {},
   "source": [
    "### Hierarchical clustering"
   ]
  },
  {
   "cell_type": "code",
   "execution_count": null,
   "id": "cf1ff6a9-d5f5-4de1-927e-447b8e977315",
   "metadata": {},
   "outputs": [],
   "source": [
    "from sklearn.cluster import AgglomerativeClustering\n",
    "\n",
    "hclust = AgglomerativeClustering(n_clusters=4, metric=\"euclidean\", linkage=\"complete\") \n",
    "hclust.fit(input_dif) "
   ]
  },
  {
   "cell_type": "code",
   "execution_count": null,
   "id": "4537d23a-10d1-46af-9e2c-16266ce3a66f",
   "metadata": {},
   "outputs": [],
   "source": [
    "res_hc = hclust.labels_\n",
    "pd.crosstab (meta[\"time\"], res_hc)"
   ]
  },
  {
   "cell_type": "markdown",
   "id": "6de4f2b9-173f-4c69-8cf1-3ec4880f6fa6",
   "metadata": {},
   "source": [
    "Através da tabela anterior, podem retirar-se informações relativas à associação entre cada um dos clusterings e cada uma das classes do target time. No caso do cluster 0 e do cluster 1 observa-se que os clusters contém maioritariamente clusters de uma classe, nomeadamente da classe 24h e 4h, respetivamente. Quanto ao cluster 2, verifica-se a existência de 12 amostras para um tempo de jejum igual a 1h30. No entanto o cluster 2 apresenta uma distribuição mais diversificada nos diferentes tempos de jejum, mostrando que não se trata de um bom cluster. De salientar que este cluster aglomerou 26 das 48 amostras e consequentemente apenas duas amostras foram agrupadas para o cluster 3. De forma geral, verificou-se que a classe mais prevalente em cada um é diferente. "
   ]
  },
  {
   "cell_type": "code",
   "execution_count": null,
   "id": "c35152fe-a9de-42d9-9b8c-87bb1d679e3f",
   "metadata": {},
   "outputs": [],
   "source": [
    "from scipy.cluster.hierarchy import dendrogram, linkage\n",
    "Z = linkage(input_dif, method='single', metric='euclidean')    \n",
    "Z[:10]"
   ]
  },
  {
   "cell_type": "code",
   "execution_count": null,
   "id": "ad42f46d-dce1-4cd1-bf90-89ccda654a6d",
   "metadata": {},
   "outputs": [],
   "source": [
    "\n",
    "plt.figure(figsize=(25, 10))   # Creates a generic figure\n",
    "dendrogram(                             # Creates the dendogram\n",
    "            Z,\n",
    "            labels=np.array(output_time),    #  select the labels\n",
    "            leaf_rotation=90.,  # rotates the x-axis labels\n",
    "            leaf_font_size=8,  # font size for the x-axis labels\n",
    ")\n",
    "\n",
    "plt.title('Hierarchical Clustering Dendrogram')\n",
    "plt.ylabel('distance')\n",
    "\n",
    "# Assignment of colors to labels: 'a' is red, 'b' is green, etc. rgbc 'hour 1.5', 'hour 4' ,'hour 10','hour 24'\n",
    "label_colors = {'hour 1.5': 'r', 'hour 4': 'g', 'hour 10': 'b', 'hour 24':'c' }\n",
    "ax = plt.gca()\n",
    "xlbls = ax.get_xmajorticklabels()\n",
    "for lbl in xlbls:\n",
    "    lbl.set_color(label_colors[lbl.get_text()])\n",
    "plt.show()"
   ]
  },
  {
   "cell_type": "markdown",
   "id": "e5640b01-e4b1-4c3d-a521-96435561aad3",
   "metadata": {},
   "source": [
    "Através do dendograma anterior, é feita a representação da respetiva árvore de agrupamento. Neste dendograma é possível observar com mais definição 4 agrupamentos de dados diferentes, correspondentes às classes do atributo target. No entanto, os resultados não são ótimos, uma vez que se verifica a presença de algumas amostras em locais inesperados."
   ]
  },
  {
   "cell_type": "markdown",
   "id": "0de44bfe-550d-4d8f-816b-7c33c5e6fe84",
   "metadata": {},
   "source": [
    "### K-means clustering"
   ]
  },
  {
   "cell_type": "markdown",
   "id": "7d742884-ee6c-48cd-ad3b-f06873395c2a",
   "metadata": {},
   "source": [
    "O algoritmo K-means é um método de clustering que divide um conjunto de dados em k clusters distintos."
   ]
  },
  {
   "cell_type": "code",
   "execution_count": null,
   "id": "70510151-5b69-4700-9785-bea6b47f0ded",
   "metadata": {},
   "outputs": [],
   "source": [
    "from sklearn.cluster import KMeans\n",
    "k=4\n",
    "kmeans = KMeans(n_clusters=k, max_iter = 1000, n_init = 10)\n",
    "kmeans.fit(input_dif)\n",
    "labels = kmeans.labels_\n",
    "centroids= kmeans.cluster_centers_\n",
    "pd.crosstab (labels,meta[\"time\"],rownames=['clusters'])"
   ]
  },
  {
   "cell_type": "markdown",
   "id": "ee34ad3e-5926-4cdb-83ef-c156c0ab1921",
   "metadata": {},
   "source": [
    "Através da tabela anterior, podem retirar-se informações relativas à associação entre cada um dos clusterings e cada uma das classes do target time. Por exemplo, para o cluster 0, verifica-se a existência de 11 amostras para um tempo de jejum igual a 1h30. De forma semelhante, o cluster 2 e 3 apresentam 10 amostras para um tempo de jejum de 4h e 10h , repetivamente. No caso do cluster 1, o maior número de amostras agrupado foi de 6 para um tempo de 24h após o jejum. Ainda assim, verifica-se que os clusters têm amostras de outros tempos de jejum, o que demonstra que os resultados não são totalmente ótimos."
   ]
  },
  {
   "cell_type": "markdown",
   "id": "07ce7102-7a58-4e7b-9bbc-f18f8943d418",
   "metadata": {},
   "source": [
    "## Etapa 3"
   ]
  },
  {
   "cell_type": "markdown",
   "id": "bef916a7-c15c-4d6e-ba99-b89fef1dc7aa",
   "metadata": {},
   "source": [
    "# Modelos de Aprendizagem Supervisionada"
   ]
  },
  {
   "cell_type": "markdown",
   "id": "e7748755-03d0-4fa8-a8f4-d08cb93b7d4a",
   "metadata": {},
   "source": [
    "Primeiramente, considerou-se a variável time como target. Para os atributos, incluíu-se apenas os genes que foram identificados como diferencialmente expressos. Geralmente, os conjuntos de dados omics, como o conjunto de genes em análise, frequentemente possuem uma dimensionalidade elevada, o que significa que contêm muitos mais elementos (genes) do que amostras. Desta forma, incluindo todos os genes na análise pode resultar numa pior performance dos algoritmos de aprendizagem de machine learning, devido ao grande número de elementos. Portanto, selecionar-se os genes diferencialmente expressos, ajuda a reduzir a dimensionalidade e pode melhorar o desempenho do modelo. "
   ]
  },
  {
   "cell_type": "code",
   "execution_count": null,
   "id": "cd95b3b7-b5d1-4b4a-b11d-c2ac8d38c38b",
   "metadata": {},
   "outputs": [],
   "source": [
    "input_dif = data_scale[:,genes_dif[0]]\n",
    "\n",
    "print(input_dif.shape)"
   ]
  },
  {
   "cell_type": "markdown",
   "id": "f5e68106-a74e-43e6-af18-56f76772c80e",
   "metadata": {},
   "source": [
    "Para a aplicação de aprendizagem supervisionada é necessário dividir os dados em dados para treino e para teste. Desta forma, foi feita a partição com holdout."
   ]
  },
  {
   "cell_type": "markdown",
   "id": "92ee0f82-fbf1-4951-a5a2-f729607c7b28",
   "metadata": {},
   "source": [
    "### Split Data - holdout"
   ]
  },
  {
   "cell_type": "code",
   "execution_count": null,
   "id": "b31f9d81-24f2-4311-99d3-b9bdfb766ceb",
   "metadata": {},
   "outputs": [],
   "source": [
    "from sklearn.model_selection import train_test_split"
   ]
  },
  {
   "cell_type": "code",
   "execution_count": null,
   "id": "6eecd9d2-5a82-46d5-a429-2e3f1ca16625",
   "metadata": {},
   "outputs": [],
   "source": [
    "target = meta['time']\n",
    "train_in, test_in, train_out, test_out = train_test_split(input_dif, target, test_size=1/3, random_state=1)\n",
    "print(train_in.shape)\n",
    "print(test_in.shape)"
   ]
  },
  {
   "cell_type": "markdown",
   "id": "fe6737fd-3710-4f53-9707-2da207eb1bb7",
   "metadata": {},
   "source": [
    "Posteriormente, foram utilizados 3 modelos : K-Nearest Neighbors (KNN), Decision Trees (DT) e Naive Bayes (NB)."
   ]
  },
  {
   "cell_type": "markdown",
   "id": "e9f3bee6-ac4f-4f49-92ab-0f3b28ba823a",
   "metadata": {},
   "source": [
    "#### KNN"
   ]
  },
  {
   "cell_type": "markdown",
   "id": "3ad91c53-db0f-4da4-b695-5a7e857cd3c0",
   "metadata": {},
   "source": [
    "O KNN é um algoritmo que classifica uma instância de teste com base na classe ou na média dos valores das k instâncias mais próximas no espaço de características. De realçar, que a escolha do valor de k é crucial para o desempenho do modelo. "
   ]
  },
  {
   "cell_type": "code",
   "execution_count": null,
   "id": "1466c300-0336-4515-952a-1520b6c50844",
   "metadata": {},
   "outputs": [],
   "source": [
    "from sklearn.neighbors import KNeighborsClassifier\n",
    "\n",
    "knn = KNeighborsClassifier()\n",
    "knn.fit(train_in, train_out)\n",
    "preds = knn.predict(test_in)\n",
    "\n",
    "print(\"Predicted Values: \", preds)\n",
    "print(\"Real Values: \" , test_out)\n",
    "print(\"Correct Predition Percentage: ( Accuracy) \", (preds == test_out).sum()/len(preds) )"
   ]
  },
  {
   "cell_type": "code",
   "execution_count": null,
   "id": "2b6e84eb-2919-4f00-9ca1-b1e1212a61f0",
   "metadata": {},
   "outputs": [],
   "source": [
    "from sklearn.metrics import confusion_matrix, precision_score, recall_score,ConfusionMatrixDisplay"
   ]
  },
  {
   "cell_type": "code",
   "execution_count": null,
   "id": "0534aeef-9a4b-41cb-95c9-395b5a93407d",
   "metadata": {},
   "outputs": [],
   "source": [
    "# Matriz de Confusão\n",
    "knn_cm = ConfusionMatrixDisplay.from_predictions(test_out, preds, display_labels=knn.classes_, cmap='Blues')\n",
    "knn_cm"
   ]
  },
  {
   "cell_type": "markdown",
   "id": "47271cb7-c94a-444c-99ab-b1a7faec64f8",
   "metadata": {},
   "source": [
    "Como se pode observar anteriormente, foi feita a matriz de confusão respetivo ao método KNN, onde se pode observar os resultados que foram previstos correta e incorretamente. A partir da matriz, é possível calcular diversas métricas de avaliação, nomeadamente a Accuracy, a Precisão e a Sensibilidade."
   ]
  },
  {
   "cell_type": "markdown",
   "id": "888c0018-6533-4dd2-a95f-01ae990a90dd",
   "metadata": {},
   "source": [
    "-> ***Precisão = TP/(TP+FP)***\n",
    "\r",
    "-> ***Sensibilidade = TP/(TP+FN)***"
   ]
  },
  {
   "cell_type": "code",
   "execution_count": null,
   "id": "e47e267c-1be8-4afb-ba31-b1ce3d8809c5",
   "metadata": {},
   "outputs": [],
   "source": [
    "# Métricas de Avaliação \n",
    "print('Precisão: %0.2f' % precision_score(test_out,preds, average='weighted'))\n",
    "print('Sensibilidade: %0.2f' % recall_score(test_out,preds, average='weighted'))"
   ]
  },
  {
   "cell_type": "markdown",
   "id": "efcf4c00-74a9-414a-a57f-d373942ffaf0",
   "metadata": {},
   "source": [
    "#### Árvores de Decisão"
   ]
  },
  {
   "cell_type": "markdown",
   "id": "911f3c6c-dff5-49b4-a4e9-41eb6e3667ae",
   "metadata": {},
   "source": [
    "As árvores de decisão são um modelo de aprendizagem que organizam as suas decisões e as possíveis consequências das mesmas numa estrutura em árvore hierárquica. Cada nó interno da árvore representa um teste ao atributo, os ramos representam os resultados possíveis e as folhas as decisões finais. "
   ]
  },
  {
   "cell_type": "code",
   "execution_count": null,
   "id": "6a40e385-bf6b-4077-adc9-d770b38c21e0",
   "metadata": {},
   "outputs": [],
   "source": [
    "from sklearn import tree\n",
    "\n",
    "tree_model = tree.DecisionTreeClassifier()\n",
    "tree_model = tree_model.fit(train_in, train_out)\n",
    "preds_tree = tree_model.predict(test_in)\n",
    "\n",
    "print(\"Correct Predition Percentage: \", (preds_tree == test_out).sum()/len(preds_tree) )"
   ]
  },
  {
   "cell_type": "code",
   "execution_count": null,
   "id": "74fee3cc-0818-4fef-8197-f3781efe9a7c",
   "metadata": {},
   "outputs": [],
   "source": [
    "# Matriz de Confusão\n",
    "tree_cm = ConfusionMatrixDisplay.from_predictions(test_out, preds_tree, display_labels=tree_model.classes_, cmap='Blues')\n",
    "tree_cm"
   ]
  },
  {
   "cell_type": "code",
   "execution_count": null,
   "id": "4988ac4a-96fe-4253-8392-2e1026b94047",
   "metadata": {},
   "outputs": [],
   "source": [
    "# Métricas de Avaliação\n",
    "print('Precisão: %0.2f' % precision_score(test_out,preds_tree, average='weighted'))\n",
    "print('Sensibilidade: %0.2f' % recall_score(test_out,preds_tree, average='weighted'))\n"
   ]
  },
  {
   "cell_type": "markdown",
   "id": "6773b54d-232f-44c7-9c08-b6849f32ef69",
   "metadata": {},
   "source": [
    "#### Naive Bayes"
   ]
  },
  {
   "cell_type": "markdown",
   "id": "dd1b3473-c542-421e-bbdf-5a90e573177d",
   "metadata": {},
   "source": [
    "O Naive Bayes trata-se de um algoritmo de classificação que recorre ao teorema de Bayes para prever a probabilidade de uma instância pertencer a uma determinada classe, com base nas características observadas. "
   ]
  },
  {
   "cell_type": "code",
   "execution_count": null,
   "id": "41845ad8-0f90-470d-b377-1174fe5f4d36",
   "metadata": {},
   "outputs": [],
   "source": [
    "from sklearn.naive_bayes import GaussianNB\n",
    "\n",
    "gnb_model = GaussianNB()\n",
    "gnb_model.fit(train_in, train_out )\n",
    "preds_gnb = gnb_model.predict(test_in)\n",
    "\n",
    "print(\"Correct Predition Percentage: \", (preds_gnb== test_out).sum()/len(preds_gnb) )\n"
   ]
  },
  {
   "cell_type": "code",
   "execution_count": null,
   "id": "edf0acc4-ed75-4fe4-859d-237aa0980efb",
   "metadata": {},
   "outputs": [],
   "source": [
    "naive_cm = ConfusionMatrixDisplay.from_predictions(test_out, preds_gnb, display_labels=gnb_model.classes_, cmap='Blues')\n",
    "naive_cm"
   ]
  },
  {
   "cell_type": "code",
   "execution_count": null,
   "id": "276a07a7-8995-41ab-99bf-039d3294e13a",
   "metadata": {},
   "outputs": [],
   "source": [
    "# Métricas de avaliação\n",
    "print('Precisão: %0.2f' % precision_score(test_out, preds_gnb, average='weighted'))\n",
    "print('Sensibilidade: %0.2f' % recall_score(test_out, preds_gnb, average='weighted'))"
   ]
  },
  {
   "cell_type": "markdown",
   "id": "4fbe331f-1683-413e-bf60-6a96c657083c",
   "metadata": {},
   "source": [
    "Tendo em conta os resultados obtidos, o modelo que fez uma previsão com melhor desempenho foi o modelo KNN, obtendo-se 75%, 84% e 75% de accuracy, precisão e sensibilidade, respetivamente. Ainda que estes resultados aparentem ser relativamente bons, não é possível assegurar a sua fiabilidade, visto que existem muito poucas amostras no dataset."
   ]
  },
  {
   "cell_type": "markdown",
   "id": "4fce5145-8705-4abe-89eb-2a9cb7d50b88",
   "metadata": {},
   "source": [
    "Para melhorar a qualidade do modelo , foi testada outra técnica de partição de dados, o cross- validation."
   ]
  },
  {
   "cell_type": "markdown",
   "id": "50f7f504-88c8-4fb9-8513-979b78c87955",
   "metadata": {},
   "source": [
    "### Cross-Validation"
   ]
  },
  {
   "cell_type": "markdown",
   "id": "c2aa4b29-6492-4928-be79-950703c1c4a1",
   "metadata": {},
   "source": [
    "A validação cruzada op conjunto de dados e dividido em k folds. Desta forma, o modelo irá ser treinado k vezes, usando k-1 folds para treino e 1 fold para teste. Assim, cada parte dos dados vai ser utilizada tanto para treino como para teste em diferentes iterações. "
   ]
  },
  {
   "cell_type": "code",
   "execution_count": null,
   "id": "c7af0bb1-32b0-4499-abf4-411648682338",
   "metadata": {},
   "outputs": [],
   "source": [
    "from sklearn.model_selection import cross_val_score"
   ]
  },
  {
   "cell_type": "code",
   "execution_count": null,
   "id": "ad665ac7-2599-43eb-b155-ec5832948660",
   "metadata": {},
   "outputs": [],
   "source": [
    "from sklearn.model_selection import StratifiedKFold"
   ]
  },
  {
   "cell_type": "code",
   "execution_count": null,
   "id": "7bd6adce-d215-4526-b4eb-6771919cced3",
   "metadata": {},
   "outputs": [],
   "source": [
    "from sklearn.metrics import accuracy_score, precision_score, recall_score\n"
   ]
  },
  {
   "cell_type": "markdown",
   "id": "73b5d760-81b8-4d80-8590-a9f02a45d7de",
   "metadata": {},
   "source": [
    "#### KNN"
   ]
  },
  {
   "cell_type": "code",
   "execution_count": null,
   "id": "a00b3806-5c8e-4164-be60-15ab864371bf",
   "metadata": {},
   "outputs": [],
   "source": [
    "# KNN\n",
    "num_folds = 12\n",
    "stratified_kfold = StratifiedKFold(n_splits=num_folds)\n",
    "scores = cross_val_score(estimator=knn, X=input_dif, y=target, cv=stratified_kfold)"
   ]
  },
  {
   "cell_type": "markdown",
   "id": "9ff7ed32-59c9-4028-b235-ba0c9a152007",
   "metadata": {},
   "source": [
    "Como se verifica, foi utilizado o StratifiedKFold. Esta ferramenta foi a mais adequada, uma vez que o dataset apresenta 4 amostras para cada indíviduo de forma contígua. Assim, foram utilizados para teste as 4 amostras correspondentes a cada indíviduo, selecionando-se os indíces adequados."
   ]
  },
  {
   "cell_type": "code",
   "execution_count": null,
   "id": "6bcb2e7e-cc46-409e-9b94-6a25c72caaa6",
   "metadata": {},
   "outputs": [],
   "source": [
    "print(\"Modelo Knn com Cross-Validation\")\n",
    "print('Accuracy values:', scores)\n",
    "print('Mean accuracy: %0.2f' % scores.mean())\n"
   ]
  },
  {
   "cell_type": "code",
   "execution_count": null,
   "id": "5f68b2ff-22e5-4e57-8401-8d4676edee88",
   "metadata": {},
   "outputs": [],
   "source": [
    "\n",
    "X=input_dif\n",
    "y=target\n",
    "\n",
    "\n",
    "precision_list = []\n",
    "recall_list = []\n",
    "\n",
    "for i, (train_idx, test_idx) in enumerate(stratified_kfold.split(X, y)):\n",
    "    X_train, X_test = X[train_idx], X[test_idx]\n",
    "    y_train, y_test = y[train_idx], y[test_idx]\n",
    "\n",
    "    print(f\"Fold {i + 1}:\")\n",
    "    print(\"Índices de Treino:\", train_idx)\n",
    "    print(\"Índices de Teste:\", test_idx)\n",
    "        \n",
    "    knn.fit(X_train, y_train)\n",
    "\n",
    "    # Fazer previsões\n",
    "    y_pred = knn.predict(X_test)\n",
    "\n",
    "    # Calcular métricas precisão e sensibilidade\n",
    "    precision = precision_score(y_test, y_pred,average='weighted')\n",
    "    recall = recall_score(y_test, y_pred,average='weighted')\n",
    "    \n",
    " \n",
    "    precision_list.append(precision)\n",
    "    recall_list.append(recall)\n",
    "\n",
    "mean_precision = sum(precision_list) / len(precision_list)\n",
    "mean_recall = sum(recall_list) / len(recall_list)\n",
    "\n",
    "# Imprimir médias\n",
    "print(\"Modelo KNN com Cross-Validation\")\n",
    "print('Média de Precisão: %0.2f' %mean_precision)\n",
    "print(\"Média de Sensibilidade (Recall):%0.2f\" %mean_recall)"
   ]
  },
  {
   "cell_type": "markdown",
   "id": "9e04d2fd-a1ae-4f84-baea-a9f2cfa1122b",
   "metadata": {},
   "source": [
    "#### Árvores de Decisão "
   ]
  },
  {
   "cell_type": "code",
   "execution_count": null,
   "id": "d007a195-7994-48aa-abd9-5893ebdeeb8c",
   "metadata": {},
   "outputs": [],
   "source": [
    "# DECISION TREE\n",
    "\n",
    "scores_svm_cv = cross_val_score(estimator=tree_model, X=input_dif, y=target, cv=stratified_kfold)\n",
    "\n",
    "print(\"Modelo Decision Tree com Cross-Validation\")\n",
    "print('Accuracy values:', scores_svm_cv)\n",
    "print('Mean accuracy: %0.2f' % scores_svm_cv.mean())\n"
   ]
  },
  {
   "cell_type": "code",
   "execution_count": null,
   "id": "b68e07c3-c95e-400f-8d5f-60b0ce119a02",
   "metadata": {},
   "outputs": [],
   "source": [
    "X=input_dif\n",
    "y=target\n",
    "\n",
    "\n",
    "precision_list = []\n",
    "recall_list = []\n",
    "\n",
    "for i, (train_idx, test_idx) in enumerate(stratified_kfold.split(X, y)):\n",
    "    X_train, X_test = X[train_idx], X[test_idx]\n",
    "    y_train, y_test = y[train_idx], y[test_idx]\n",
    "\n",
    "   \n",
    "    tree_model.fit(X_train, y_train)\n",
    "\n",
    "    # Fazer previsões\n",
    "    y_pred = tree_model.predict(X_test)\n",
    "\n",
    "    # Calcular métricas precisão e sensibilidade\n",
    "    precision = precision_score(y_test, y_pred,average='weighted')\n",
    "    recall = recall_score(y_test, y_pred,average='weighted')\n",
    "    \n",
    "    \n",
    "    precision_list.append(precision)\n",
    "    recall_list.append(recall)\n",
    "\n",
    "mean_precision = sum(precision_list) / len(precision_list)\n",
    "mean_recall = sum(recall_list) / len(recall_list)\n",
    "\n",
    "# Imprimir médias\n",
    "print(\"Modelo Decision Tree com Cross-Validation\")\n",
    "print(\"Média de Precisão:%0.2f\"%mean_precision)\n",
    "print(\"Média de Sensibilidade (Recall):%0.2f\" %mean_recall)"
   ]
  },
  {
   "cell_type": "markdown",
   "id": "707de681-b20a-4f49-bf4e-c23a2fc8b1d1",
   "metadata": {},
   "source": [
    "#### Naive Bayes"
   ]
  },
  {
   "cell_type": "code",
   "execution_count": null,
   "id": "b4bee1ab-7d32-431e-91a4-6f9784a72023",
   "metadata": {},
   "outputs": [],
   "source": [
    "# NAIVE BAYES\n",
    "\n",
    "scores_svm_cv = cross_val_score(estimator=gnb_model, X=input_dif, y=target, cv=stratified_kfold)\n",
    "\n",
    "print(\"Modelo Naive Bayes com Cross-Validation\")\n",
    "print('Accuracy values:', scores_svm_cv)\n",
    "print('Mean accuracy: %0.2f' % scores_svm_cv.mean())\n"
   ]
  },
  {
   "cell_type": "code",
   "execution_count": null,
   "id": "23d3eb11-bd40-44c1-848e-bf5ebbfb6798",
   "metadata": {},
   "outputs": [],
   "source": [
    "\n",
    "precision_list = []\n",
    "recall_list = []\n",
    "\n",
    "for i, (train_idx, test_idx) in enumerate(stratified_kfold.split(X, y)):\n",
    "    X_train, X_test = X[train_idx], X[test_idx]\n",
    "    y_train, y_test = y[train_idx], y[test_idx]\n",
    "\n",
    "    gnb_model = GaussianNB()\n",
    "\n",
    "    # Treinar o modelo\n",
    "    gnb_model.fit(X_train, y_train)\n",
    "\n",
    "    # Fazer previsões\n",
    "    y_pred = gnb_model.predict(X_test)\n",
    "\n",
    "    # Calcular métricas precisão e sensibilidade\n",
    "    precision = precision_score(y_test, y_pred,average='weighted')\n",
    "    recall = recall_score(y_test, y_pred,average='weighted')\n",
    "    \n",
    "    precision_list.append(precision)\n",
    "    recall_list.append(recall)\n",
    "\n",
    "mean_precision = sum(precision_list) / len(precision_list)\n",
    "mean_recall = sum(recall_list) / len(recall_list)\n",
    "\n",
    "# Imprimir médias\n",
    "print(\"Modelo Naive Bayes com Cross-Validation\")\n",
    "print(\"Média de Precisão:%0.2f\" %mean_precision)\n",
    "print(\"Média de Sensibilidade (Recall):%0.2f\" %mean_recall)"
   ]
  },
  {
   "cell_type": "markdown",
   "id": "41e0760d-0dd9-4548-aa50-3bd4c14fccb4",
   "metadata": {},
   "source": [
    "Com a técnica de cross-validation obteve-se um melhor desempenho nas métricas de avaliação. Com efeito, a melhor previsão foi feita com o modelo KNN utilizando a técnica de cross-validation para a divisão de treino e teste. Obteve-se 88% de accuracy, no entanto, o resultado está enviesado pela baixo número das amostras (apenas 48), não podendo ser, portanto, considerado um bom modelo de previsão."
   ]
  },
  {
   "cell_type": "markdown",
   "id": "9e06c77a-19cb-4b76-80b4-7cf8a3283ab0",
   "metadata": {},
   "source": [
    " ## Referências científicas\n"
   ]
  },
  {
   "cell_type": "markdown",
   "id": "5ec0541a-ee3c-4350-bcf0-275870f50e10",
   "metadata": {},
   "source": [
    "\n",
    "\n",
    "Wijngaarden MA, Bakker LE, van der Zon GC, et al. Regulation of skeletal muscle energy/nutrient-sensing pathways during metabolic adaptation to fasting in healthy humans. Am J Physiol Endocrinol Metab. 2014;307(10):E885-E895. doi:10.1152/ajpendo.00215.2014"
   ]
  }
 ],
 "metadata": {
  "kernelspec": {
   "display_name": "Python 3 (ipykernel)",
   "language": "python",
   "name": "python3"
  },
  "language_info": {
   "codemirror_mode": {
    "name": "ipython",
    "version": 3
   },
   "file_extension": ".py",
   "mimetype": "text/x-python",
   "name": "python",
   "nbconvert_exporter": "python",
   "pygments_lexer": "ipython3",
   "version": "3.11.5"
  }
 },
 "nbformat": 4,
 "nbformat_minor": 5
}
